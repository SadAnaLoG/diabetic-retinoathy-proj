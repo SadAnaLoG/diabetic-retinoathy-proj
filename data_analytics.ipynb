{
 "cells": [
  {
   "cell_type": "markdown",
   "metadata": {
    "colab_type": "text",
    "id": "TuTnzt2cDHPK"
   },
   "source": [
    "# Data Analytics for Diabetic Retinopathy Dataset"
   ]
  },
  {
   "cell_type": "markdown",
   "metadata": {
    "colab_type": "text",
    "id": "7GnOkySfVT6n"
   },
   "source": [
    "## Initialization"
   ]
  },
  {
   "cell_type": "code",
   "execution_count": 1,
   "metadata": {
    "colab": {
     "base_uri": "https://localhost:8080/",
     "height": 122
    },
    "colab_type": "code",
    "id": "ObeHWxoI373q",
    "outputId": "b7935820-a486-4c1f-8953-efe7b517f179"
   },
   "outputs": [],
   "source": [
    "# from google.colab import drive\n",
    "\n",
    "# # Connect to the google drive\n",
    "# drive.mount('/content/gdrive')"
   ]
  },
  {
   "cell_type": "code",
   "execution_count": 2,
   "metadata": {},
   "outputs": [],
   "source": [
    "from scipy.io import arff\n",
    "import pandas as pd\n",
    "import numpy as np\n",
    "import sklearn\n",
    "import matplotlib.pyplot as plt"
   ]
  },
  {
   "cell_type": "markdown",
   "metadata": {
    "colab_type": "text",
    "id": "pM3herJiVMFu"
   },
   "source": [
    "___\n",
    "## Loading Data"
   ]
  },
  {
   "cell_type": "code",
   "execution_count": 3,
   "metadata": {},
   "outputs": [],
   "source": [
    "# !pip install matplotlib"
   ]
  },
  {
   "cell_type": "code",
   "execution_count": 4,
   "metadata": {
    "colab": {
     "base_uri": "https://localhost:8080/",
     "height": 204
    },
    "colab_type": "code",
    "id": "XqrAR05gWCXz",
    "outputId": "8ef9a411-3f37-4b4e-aa37-69f21b73fe67"
   },
   "outputs": [
    {
     "data": {
      "text/html": [
       "<div>\n",
       "<style scoped>\n",
       "    .dataframe tbody tr th:only-of-type {\n",
       "        vertical-align: middle;\n",
       "    }\n",
       "\n",
       "    .dataframe tbody tr th {\n",
       "        vertical-align: top;\n",
       "    }\n",
       "\n",
       "    .dataframe thead th {\n",
       "        text-align: right;\n",
       "    }\n",
       "</style>\n",
       "<table border=\"1\" class=\"dataframe\">\n",
       "  <thead>\n",
       "    <tr style=\"text-align: right;\">\n",
       "      <th></th>\n",
       "      <th>0</th>\n",
       "      <th>1</th>\n",
       "    </tr>\n",
       "  </thead>\n",
       "  <tbody>\n",
       "    <tr>\n",
       "      <th>0</th>\n",
       "      <td>[1.0, 1.0, 22.0, 22.0, 22.0, 19.0, 18.0, 14.0,...</td>\n",
       "      <td>0</td>\n",
       "    </tr>\n",
       "    <tr>\n",
       "      <th>1</th>\n",
       "      <td>[1.0, 1.0, 24.0, 24.0, 22.0, 18.0, 16.0, 13.0,...</td>\n",
       "      <td>1</td>\n",
       "    </tr>\n",
       "    <tr>\n",
       "      <th>2</th>\n",
       "      <td>[1.0, 1.0, 62.0, 60.0, 59.0, 54.0, 47.0, 33.0,...</td>\n",
       "      <td>2</td>\n",
       "    </tr>\n",
       "    <tr>\n",
       "      <th>3</th>\n",
       "      <td>[1.0, 1.0, 55.0, 53.0, 53.0, 50.0, 43.0, 31.0,...</td>\n",
       "      <td>3</td>\n",
       "    </tr>\n",
       "    <tr>\n",
       "      <th>4</th>\n",
       "      <td>[1.0, 1.0, 44.0, 44.0, 44.0, 41.0, 39.0, 27.0,...</td>\n",
       "      <td>4</td>\n",
       "    </tr>\n",
       "  </tbody>\n",
       "</table>\n",
       "</div>"
      ],
      "text/plain": [
       "                                                   0  1\n",
       "0  [1.0, 1.0, 22.0, 22.0, 22.0, 19.0, 18.0, 14.0,...  0\n",
       "1  [1.0, 1.0, 24.0, 24.0, 22.0, 18.0, 16.0, 13.0,...  1\n",
       "2  [1.0, 1.0, 62.0, 60.0, 59.0, 54.0, 47.0, 33.0,...  2\n",
       "3  [1.0, 1.0, 55.0, 53.0, 53.0, 50.0, 43.0, 31.0,...  3\n",
       "4  [1.0, 1.0, 44.0, 44.0, 44.0, 41.0, 39.0, 27.0,...  4"
      ]
     },
     "metadata": {},
     "output_type": "display_data"
    }
   ],
   "source": [
    "data =  arff.loadarff(\"messidor_features.arff\")\n",
    "df = pd.DataFrame(data).transpose()\n",
    "display(df.head()) "
   ]
  },
  {
   "cell_type": "code",
   "execution_count": 5,
   "metadata": {
    "colab": {
     "base_uri": "https://localhost:8080/",
     "height": 204
    },
    "colab_type": "code",
    "id": "qvg3G7t9Ssub",
    "outputId": "055030f5-087e-4f68-efa4-ce907d9c7dc8"
   },
   "outputs": [
    {
     "data": {
      "text/html": [
       "<div>\n",
       "<style scoped>\n",
       "    .dataframe tbody tr th:only-of-type {\n",
       "        vertical-align: middle;\n",
       "    }\n",
       "\n",
       "    .dataframe tbody tr th {\n",
       "        vertical-align: top;\n",
       "    }\n",
       "\n",
       "    .dataframe thead th {\n",
       "        text-align: right;\n",
       "    }\n",
       "</style>\n",
       "<table border=\"1\" class=\"dataframe\">\n",
       "  <thead>\n",
       "    <tr style=\"text-align: right;\">\n",
       "      <th></th>\n",
       "      <th>q</th>\n",
       "      <th>ps</th>\n",
       "      <th>nma.a</th>\n",
       "      <th>nma.b</th>\n",
       "      <th>nma.c</th>\n",
       "      <th>nma.d</th>\n",
       "      <th>nma.e</th>\n",
       "      <th>nma.f</th>\n",
       "      <th>nex.a</th>\n",
       "      <th>nex.b</th>\n",
       "      <th>nex.c</th>\n",
       "      <th>nex.d</th>\n",
       "      <th>nex.e</th>\n",
       "      <th>nex.g</th>\n",
       "      <th>nex.f</th>\n",
       "      <th>nex.h</th>\n",
       "      <th>dd</th>\n",
       "      <th>dm</th>\n",
       "      <th>amfm</th>\n",
       "      <th>class</th>\n",
       "    </tr>\n",
       "  </thead>\n",
       "  <tbody>\n",
       "    <tr>\n",
       "      <th>0</th>\n",
       "      <td>1.0</td>\n",
       "      <td>1.0</td>\n",
       "      <td>22.0</td>\n",
       "      <td>22.0</td>\n",
       "      <td>22.0</td>\n",
       "      <td>19.0</td>\n",
       "      <td>18.0</td>\n",
       "      <td>14.0</td>\n",
       "      <td>49.895756</td>\n",
       "      <td>17.775994</td>\n",
       "      <td>5.270920</td>\n",
       "      <td>0.771761</td>\n",
       "      <td>0.018632</td>\n",
       "      <td>0.006864</td>\n",
       "      <td>0.003923</td>\n",
       "      <td>0.003923</td>\n",
       "      <td>0.486903</td>\n",
       "      <td>0.100025</td>\n",
       "      <td>1.0</td>\n",
       "      <td>b'0'</td>\n",
       "    </tr>\n",
       "    <tr>\n",
       "      <th>1</th>\n",
       "      <td>1.0</td>\n",
       "      <td>1.0</td>\n",
       "      <td>24.0</td>\n",
       "      <td>24.0</td>\n",
       "      <td>22.0</td>\n",
       "      <td>18.0</td>\n",
       "      <td>16.0</td>\n",
       "      <td>13.0</td>\n",
       "      <td>57.709936</td>\n",
       "      <td>23.799994</td>\n",
       "      <td>3.325423</td>\n",
       "      <td>0.234185</td>\n",
       "      <td>0.003903</td>\n",
       "      <td>0.003903</td>\n",
       "      <td>0.003903</td>\n",
       "      <td>0.003903</td>\n",
       "      <td>0.520908</td>\n",
       "      <td>0.144414</td>\n",
       "      <td>0.0</td>\n",
       "      <td>b'0'</td>\n",
       "    </tr>\n",
       "    <tr>\n",
       "      <th>2</th>\n",
       "      <td>1.0</td>\n",
       "      <td>1.0</td>\n",
       "      <td>62.0</td>\n",
       "      <td>60.0</td>\n",
       "      <td>59.0</td>\n",
       "      <td>54.0</td>\n",
       "      <td>47.0</td>\n",
       "      <td>33.0</td>\n",
       "      <td>55.831441</td>\n",
       "      <td>27.993933</td>\n",
       "      <td>12.687485</td>\n",
       "      <td>4.852282</td>\n",
       "      <td>1.393889</td>\n",
       "      <td>0.373252</td>\n",
       "      <td>0.041817</td>\n",
       "      <td>0.007744</td>\n",
       "      <td>0.530904</td>\n",
       "      <td>0.128548</td>\n",
       "      <td>0.0</td>\n",
       "      <td>b'1'</td>\n",
       "    </tr>\n",
       "    <tr>\n",
       "      <th>3</th>\n",
       "      <td>1.0</td>\n",
       "      <td>1.0</td>\n",
       "      <td>55.0</td>\n",
       "      <td>53.0</td>\n",
       "      <td>53.0</td>\n",
       "      <td>50.0</td>\n",
       "      <td>43.0</td>\n",
       "      <td>31.0</td>\n",
       "      <td>40.467228</td>\n",
       "      <td>18.445954</td>\n",
       "      <td>9.118901</td>\n",
       "      <td>3.079428</td>\n",
       "      <td>0.840261</td>\n",
       "      <td>0.272434</td>\n",
       "      <td>0.007653</td>\n",
       "      <td>0.001531</td>\n",
       "      <td>0.483284</td>\n",
       "      <td>0.114790</td>\n",
       "      <td>0.0</td>\n",
       "      <td>b'0'</td>\n",
       "    </tr>\n",
       "    <tr>\n",
       "      <th>4</th>\n",
       "      <td>1.0</td>\n",
       "      <td>1.0</td>\n",
       "      <td>44.0</td>\n",
       "      <td>44.0</td>\n",
       "      <td>44.0</td>\n",
       "      <td>41.0</td>\n",
       "      <td>39.0</td>\n",
       "      <td>27.0</td>\n",
       "      <td>18.026254</td>\n",
       "      <td>8.570709</td>\n",
       "      <td>0.410381</td>\n",
       "      <td>0.000000</td>\n",
       "      <td>0.000000</td>\n",
       "      <td>0.000000</td>\n",
       "      <td>0.000000</td>\n",
       "      <td>0.000000</td>\n",
       "      <td>0.475935</td>\n",
       "      <td>0.123572</td>\n",
       "      <td>0.0</td>\n",
       "      <td>b'1'</td>\n",
       "    </tr>\n",
       "  </tbody>\n",
       "</table>\n",
       "</div>"
      ],
      "text/plain": [
       "     q   ps  nma.a  nma.b  nma.c  nma.d  nma.e  nma.f      nex.a      nex.b  \\\n",
       "0  1.0  1.0   22.0   22.0   22.0   19.0   18.0   14.0  49.895756  17.775994   \n",
       "1  1.0  1.0   24.0   24.0   22.0   18.0   16.0   13.0  57.709936  23.799994   \n",
       "2  1.0  1.0   62.0   60.0   59.0   54.0   47.0   33.0  55.831441  27.993933   \n",
       "3  1.0  1.0   55.0   53.0   53.0   50.0   43.0   31.0  40.467228  18.445954   \n",
       "4  1.0  1.0   44.0   44.0   44.0   41.0   39.0   27.0  18.026254   8.570709   \n",
       "\n",
       "       nex.c     nex.d     nex.e     nex.g     nex.f     nex.h        dd  \\\n",
       "0   5.270920  0.771761  0.018632  0.006864  0.003923  0.003923  0.486903   \n",
       "1   3.325423  0.234185  0.003903  0.003903  0.003903  0.003903  0.520908   \n",
       "2  12.687485  4.852282  1.393889  0.373252  0.041817  0.007744  0.530904   \n",
       "3   9.118901  3.079428  0.840261  0.272434  0.007653  0.001531  0.483284   \n",
       "4   0.410381  0.000000  0.000000  0.000000  0.000000  0.000000  0.475935   \n",
       "\n",
       "         dm  amfm class  \n",
       "0  0.100025   1.0  b'0'  \n",
       "1  0.144414   0.0  b'0'  \n",
       "2  0.128548   0.0  b'1'  \n",
       "3  0.114790   0.0  b'0'  \n",
       "4  0.123572   0.0  b'1'  "
      ]
     },
     "metadata": {},
     "output_type": "display_data"
    }
   ],
   "source": [
    "df = pd.DataFrame(data[0])\n",
    "df.columns = [\"q\", \"ps\", \"nma.a\", \"nma.b\", \"nma.c\", \"nma.d\", \"nma.e\", \"nma.f\",\n",
    "             \"nex.a\", \"nex.b\", \"nex.c\", \"nex.d\", \"nex.e\", \"nex.g\", \"nex.f\",\n",
    "             \"nex.h\", \"dd\", \"dm\", \"amfm\", \"class\"]\n",
    "\n",
    "size = df.shape[0]\n",
    "for i in range(size):\n",
    "    df['class'].replace(i, df['class'][i])\n",
    "\n",
    "display(df.head())"
   ]
  },
  {
   "cell_type": "code",
   "execution_count": 6,
   "metadata": {
    "colab": {
     "base_uri": "https://localhost:8080/",
     "height": 317
    },
    "colab_type": "code",
    "id": "9wikuYCI_Cio",
    "outputId": "866a80e3-6a24-4213-d92d-7c23011f3f63"
   },
   "outputs": [
    {
     "data": {
      "text/html": [
       "<div>\n",
       "<style scoped>\n",
       "    .dataframe tbody tr th:only-of-type {\n",
       "        vertical-align: middle;\n",
       "    }\n",
       "\n",
       "    .dataframe tbody tr th {\n",
       "        vertical-align: top;\n",
       "    }\n",
       "\n",
       "    .dataframe thead th {\n",
       "        text-align: right;\n",
       "    }\n",
       "</style>\n",
       "<table border=\"1\" class=\"dataframe\">\n",
       "  <thead>\n",
       "    <tr style=\"text-align: right;\">\n",
       "      <th></th>\n",
       "      <th>q</th>\n",
       "      <th>ps</th>\n",
       "      <th>nma.a</th>\n",
       "      <th>nma.b</th>\n",
       "      <th>nma.c</th>\n",
       "      <th>nma.d</th>\n",
       "      <th>nma.e</th>\n",
       "      <th>nma.f</th>\n",
       "      <th>nex.a</th>\n",
       "      <th>nex.b</th>\n",
       "      <th>nex.c</th>\n",
       "      <th>nex.d</th>\n",
       "      <th>nex.e</th>\n",
       "      <th>nex.g</th>\n",
       "      <th>nex.f</th>\n",
       "      <th>nex.h</th>\n",
       "      <th>dd</th>\n",
       "      <th>dm</th>\n",
       "      <th>amfm</th>\n",
       "    </tr>\n",
       "  </thead>\n",
       "  <tbody>\n",
       "    <tr>\n",
       "      <th>count</th>\n",
       "      <td>1151.000000</td>\n",
       "      <td>1151.000000</td>\n",
       "      <td>1151.000000</td>\n",
       "      <td>1151.000000</td>\n",
       "      <td>1151.000000</td>\n",
       "      <td>1151.000000</td>\n",
       "      <td>1151.000000</td>\n",
       "      <td>1151.000000</td>\n",
       "      <td>1151.000000</td>\n",
       "      <td>1151.000000</td>\n",
       "      <td>1151.000000</td>\n",
       "      <td>1151.000000</td>\n",
       "      <td>1151.000000</td>\n",
       "      <td>1151.000000</td>\n",
       "      <td>1151.000000</td>\n",
       "      <td>1151.000000</td>\n",
       "      <td>1151.000000</td>\n",
       "      <td>1151.000000</td>\n",
       "      <td>1151.000000</td>\n",
       "    </tr>\n",
       "    <tr>\n",
       "      <th>mean</th>\n",
       "      <td>0.996525</td>\n",
       "      <td>0.918332</td>\n",
       "      <td>38.428323</td>\n",
       "      <td>36.909644</td>\n",
       "      <td>35.140747</td>\n",
       "      <td>32.297133</td>\n",
       "      <td>28.747176</td>\n",
       "      <td>21.151173</td>\n",
       "      <td>64.096674</td>\n",
       "      <td>23.088012</td>\n",
       "      <td>8.704610</td>\n",
       "      <td>1.836489</td>\n",
       "      <td>0.560738</td>\n",
       "      <td>0.212290</td>\n",
       "      <td>0.085674</td>\n",
       "      <td>0.037225</td>\n",
       "      <td>0.523212</td>\n",
       "      <td>0.108431</td>\n",
       "      <td>0.336229</td>\n",
       "    </tr>\n",
       "    <tr>\n",
       "      <th>std</th>\n",
       "      <td>0.058874</td>\n",
       "      <td>0.273977</td>\n",
       "      <td>25.620913</td>\n",
       "      <td>24.105612</td>\n",
       "      <td>22.805400</td>\n",
       "      <td>21.114767</td>\n",
       "      <td>19.509227</td>\n",
       "      <td>15.101560</td>\n",
       "      <td>58.485289</td>\n",
       "      <td>21.602696</td>\n",
       "      <td>11.567589</td>\n",
       "      <td>3.923224</td>\n",
       "      <td>2.484111</td>\n",
       "      <td>1.057126</td>\n",
       "      <td>0.398717</td>\n",
       "      <td>0.178959</td>\n",
       "      <td>0.028055</td>\n",
       "      <td>0.017945</td>\n",
       "      <td>0.472624</td>\n",
       "    </tr>\n",
       "    <tr>\n",
       "      <th>min</th>\n",
       "      <td>0.000000</td>\n",
       "      <td>0.000000</td>\n",
       "      <td>1.000000</td>\n",
       "      <td>1.000000</td>\n",
       "      <td>1.000000</td>\n",
       "      <td>1.000000</td>\n",
       "      <td>1.000000</td>\n",
       "      <td>1.000000</td>\n",
       "      <td>0.349274</td>\n",
       "      <td>0.000000</td>\n",
       "      <td>0.000000</td>\n",
       "      <td>0.000000</td>\n",
       "      <td>0.000000</td>\n",
       "      <td>0.000000</td>\n",
       "      <td>0.000000</td>\n",
       "      <td>0.000000</td>\n",
       "      <td>0.367762</td>\n",
       "      <td>0.057906</td>\n",
       "      <td>0.000000</td>\n",
       "    </tr>\n",
       "    <tr>\n",
       "      <th>25%</th>\n",
       "      <td>1.000000</td>\n",
       "      <td>1.000000</td>\n",
       "      <td>16.000000</td>\n",
       "      <td>16.000000</td>\n",
       "      <td>15.000000</td>\n",
       "      <td>14.000000</td>\n",
       "      <td>11.000000</td>\n",
       "      <td>8.000000</td>\n",
       "      <td>22.271597</td>\n",
       "      <td>7.939315</td>\n",
       "      <td>1.249050</td>\n",
       "      <td>0.081554</td>\n",
       "      <td>0.000000</td>\n",
       "      <td>0.000000</td>\n",
       "      <td>0.000000</td>\n",
       "      <td>0.000000</td>\n",
       "      <td>0.502855</td>\n",
       "      <td>0.095799</td>\n",
       "      <td>0.000000</td>\n",
       "    </tr>\n",
       "    <tr>\n",
       "      <th>50%</th>\n",
       "      <td>1.000000</td>\n",
       "      <td>1.000000</td>\n",
       "      <td>35.000000</td>\n",
       "      <td>35.000000</td>\n",
       "      <td>32.000000</td>\n",
       "      <td>29.000000</td>\n",
       "      <td>25.000000</td>\n",
       "      <td>18.000000</td>\n",
       "      <td>44.249119</td>\n",
       "      <td>17.038020</td>\n",
       "      <td>4.423472</td>\n",
       "      <td>0.484829</td>\n",
       "      <td>0.022248</td>\n",
       "      <td>0.001554</td>\n",
       "      <td>0.000000</td>\n",
       "      <td>0.000000</td>\n",
       "      <td>0.523308</td>\n",
       "      <td>0.106623</td>\n",
       "      <td>0.000000</td>\n",
       "    </tr>\n",
       "    <tr>\n",
       "      <th>75%</th>\n",
       "      <td>1.000000</td>\n",
       "      <td>1.000000</td>\n",
       "      <td>55.000000</td>\n",
       "      <td>53.000000</td>\n",
       "      <td>51.000000</td>\n",
       "      <td>48.000000</td>\n",
       "      <td>43.000000</td>\n",
       "      <td>32.000000</td>\n",
       "      <td>87.804112</td>\n",
       "      <td>31.305692</td>\n",
       "      <td>11.766880</td>\n",
       "      <td>1.921648</td>\n",
       "      <td>0.191953</td>\n",
       "      <td>0.038450</td>\n",
       "      <td>0.004832</td>\n",
       "      <td>0.003851</td>\n",
       "      <td>0.543670</td>\n",
       "      <td>0.119591</td>\n",
       "      <td>1.000000</td>\n",
       "    </tr>\n",
       "    <tr>\n",
       "      <th>max</th>\n",
       "      <td>1.000000</td>\n",
       "      <td>1.000000</td>\n",
       "      <td>151.000000</td>\n",
       "      <td>132.000000</td>\n",
       "      <td>120.000000</td>\n",
       "      <td>105.000000</td>\n",
       "      <td>97.000000</td>\n",
       "      <td>89.000000</td>\n",
       "      <td>403.939108</td>\n",
       "      <td>167.131427</td>\n",
       "      <td>106.070092</td>\n",
       "      <td>59.766121</td>\n",
       "      <td>51.423208</td>\n",
       "      <td>20.098605</td>\n",
       "      <td>5.937799</td>\n",
       "      <td>3.086753</td>\n",
       "      <td>0.592217</td>\n",
       "      <td>0.219199</td>\n",
       "      <td>1.000000</td>\n",
       "    </tr>\n",
       "  </tbody>\n",
       "</table>\n",
       "</div>"
      ],
      "text/plain": [
       "                 q           ps        nma.a        nma.b        nma.c  \\\n",
       "count  1151.000000  1151.000000  1151.000000  1151.000000  1151.000000   \n",
       "mean      0.996525     0.918332    38.428323    36.909644    35.140747   \n",
       "std       0.058874     0.273977    25.620913    24.105612    22.805400   \n",
       "min       0.000000     0.000000     1.000000     1.000000     1.000000   \n",
       "25%       1.000000     1.000000    16.000000    16.000000    15.000000   \n",
       "50%       1.000000     1.000000    35.000000    35.000000    32.000000   \n",
       "75%       1.000000     1.000000    55.000000    53.000000    51.000000   \n",
       "max       1.000000     1.000000   151.000000   132.000000   120.000000   \n",
       "\n",
       "             nma.d        nma.e        nma.f        nex.a        nex.b  \\\n",
       "count  1151.000000  1151.000000  1151.000000  1151.000000  1151.000000   \n",
       "mean     32.297133    28.747176    21.151173    64.096674    23.088012   \n",
       "std      21.114767    19.509227    15.101560    58.485289    21.602696   \n",
       "min       1.000000     1.000000     1.000000     0.349274     0.000000   \n",
       "25%      14.000000    11.000000     8.000000    22.271597     7.939315   \n",
       "50%      29.000000    25.000000    18.000000    44.249119    17.038020   \n",
       "75%      48.000000    43.000000    32.000000    87.804112    31.305692   \n",
       "max     105.000000    97.000000    89.000000   403.939108   167.131427   \n",
       "\n",
       "             nex.c        nex.d        nex.e        nex.g        nex.f  \\\n",
       "count  1151.000000  1151.000000  1151.000000  1151.000000  1151.000000   \n",
       "mean      8.704610     1.836489     0.560738     0.212290     0.085674   \n",
       "std      11.567589     3.923224     2.484111     1.057126     0.398717   \n",
       "min       0.000000     0.000000     0.000000     0.000000     0.000000   \n",
       "25%       1.249050     0.081554     0.000000     0.000000     0.000000   \n",
       "50%       4.423472     0.484829     0.022248     0.001554     0.000000   \n",
       "75%      11.766880     1.921648     0.191953     0.038450     0.004832   \n",
       "max     106.070092    59.766121    51.423208    20.098605     5.937799   \n",
       "\n",
       "             nex.h           dd           dm         amfm  \n",
       "count  1151.000000  1151.000000  1151.000000  1151.000000  \n",
       "mean      0.037225     0.523212     0.108431     0.336229  \n",
       "std       0.178959     0.028055     0.017945     0.472624  \n",
       "min       0.000000     0.367762     0.057906     0.000000  \n",
       "25%       0.000000     0.502855     0.095799     0.000000  \n",
       "50%       0.000000     0.523308     0.106623     0.000000  \n",
       "75%       0.003851     0.543670     0.119591     1.000000  \n",
       "max       3.086753     0.592217     0.219199     1.000000  "
      ]
     },
     "execution_count": 6,
     "metadata": {},
     "output_type": "execute_result"
    }
   ],
   "source": [
    "df.describe()"
   ]
  },
  {
   "cell_type": "code",
   "execution_count": 7,
   "metadata": {
    "colab": {},
    "colab_type": "code",
    "id": "Pl0UpOnUBGID"
   },
   "outputs": [],
   "source": [
    "my_list = []\n",
    "for index, row in df.iterrows():\n",
    "  my_list.append(int(row['class']))\n",
    "df_1 = pd.concat([df, pd.Series(my_list)], axis=1)\n",
    "c = df_1.columns=[name for name in df_1.columns]\n",
    "c_1 = c[:len(c)-1]\n",
    "c_1.append('golds')\n",
    "\n",
    "\n",
    "df_1.columns = c_1\n",
    "del df_1['class']"
   ]
  },
  {
   "cell_type": "code",
   "execution_count": 8,
   "metadata": {
    "colab": {
     "base_uri": "https://localhost:8080/",
     "height": 317
    },
    "colab_type": "code",
    "id": "A6uB3NFQJ0At",
    "outputId": "b544b063-cc8c-4a74-9c9f-a04fe9dd4b2b"
   },
   "outputs": [
    {
     "data": {
      "text/html": [
       "<div>\n",
       "<style scoped>\n",
       "    .dataframe tbody tr th:only-of-type {\n",
       "        vertical-align: middle;\n",
       "    }\n",
       "\n",
       "    .dataframe tbody tr th {\n",
       "        vertical-align: top;\n",
       "    }\n",
       "\n",
       "    .dataframe thead th {\n",
       "        text-align: right;\n",
       "    }\n",
       "</style>\n",
       "<table border=\"1\" class=\"dataframe\">\n",
       "  <thead>\n",
       "    <tr style=\"text-align: right;\">\n",
       "      <th></th>\n",
       "      <th>q</th>\n",
       "      <th>ps</th>\n",
       "      <th>nma.a</th>\n",
       "      <th>nma.b</th>\n",
       "      <th>nma.c</th>\n",
       "      <th>nma.d</th>\n",
       "      <th>nma.e</th>\n",
       "      <th>nma.f</th>\n",
       "      <th>nex.a</th>\n",
       "      <th>nex.b</th>\n",
       "      <th>nex.c</th>\n",
       "      <th>nex.d</th>\n",
       "      <th>nex.e</th>\n",
       "      <th>nex.g</th>\n",
       "      <th>nex.f</th>\n",
       "      <th>nex.h</th>\n",
       "      <th>dd</th>\n",
       "      <th>dm</th>\n",
       "      <th>amfm</th>\n",
       "      <th>golds</th>\n",
       "    </tr>\n",
       "  </thead>\n",
       "  <tbody>\n",
       "    <tr>\n",
       "      <th>count</th>\n",
       "      <td>1151.000000</td>\n",
       "      <td>1151.000000</td>\n",
       "      <td>1151.000000</td>\n",
       "      <td>1151.000000</td>\n",
       "      <td>1151.000000</td>\n",
       "      <td>1151.000000</td>\n",
       "      <td>1151.000000</td>\n",
       "      <td>1151.000000</td>\n",
       "      <td>1151.000000</td>\n",
       "      <td>1151.000000</td>\n",
       "      <td>1151.000000</td>\n",
       "      <td>1151.000000</td>\n",
       "      <td>1151.000000</td>\n",
       "      <td>1151.000000</td>\n",
       "      <td>1151.000000</td>\n",
       "      <td>1151.000000</td>\n",
       "      <td>1151.000000</td>\n",
       "      <td>1151.000000</td>\n",
       "      <td>1151.000000</td>\n",
       "      <td>1151.000000</td>\n",
       "    </tr>\n",
       "    <tr>\n",
       "      <th>mean</th>\n",
       "      <td>0.996525</td>\n",
       "      <td>0.918332</td>\n",
       "      <td>38.428323</td>\n",
       "      <td>36.909644</td>\n",
       "      <td>35.140747</td>\n",
       "      <td>32.297133</td>\n",
       "      <td>28.747176</td>\n",
       "      <td>21.151173</td>\n",
       "      <td>64.096674</td>\n",
       "      <td>23.088012</td>\n",
       "      <td>8.704610</td>\n",
       "      <td>1.836489</td>\n",
       "      <td>0.560738</td>\n",
       "      <td>0.212290</td>\n",
       "      <td>0.085674</td>\n",
       "      <td>0.037225</td>\n",
       "      <td>0.523212</td>\n",
       "      <td>0.108431</td>\n",
       "      <td>0.336229</td>\n",
       "      <td>0.530843</td>\n",
       "    </tr>\n",
       "    <tr>\n",
       "      <th>std</th>\n",
       "      <td>0.058874</td>\n",
       "      <td>0.273977</td>\n",
       "      <td>25.620913</td>\n",
       "      <td>24.105612</td>\n",
       "      <td>22.805400</td>\n",
       "      <td>21.114767</td>\n",
       "      <td>19.509227</td>\n",
       "      <td>15.101560</td>\n",
       "      <td>58.485289</td>\n",
       "      <td>21.602696</td>\n",
       "      <td>11.567589</td>\n",
       "      <td>3.923224</td>\n",
       "      <td>2.484111</td>\n",
       "      <td>1.057126</td>\n",
       "      <td>0.398717</td>\n",
       "      <td>0.178959</td>\n",
       "      <td>0.028055</td>\n",
       "      <td>0.017945</td>\n",
       "      <td>0.472624</td>\n",
       "      <td>0.499265</td>\n",
       "    </tr>\n",
       "    <tr>\n",
       "      <th>min</th>\n",
       "      <td>0.000000</td>\n",
       "      <td>0.000000</td>\n",
       "      <td>1.000000</td>\n",
       "      <td>1.000000</td>\n",
       "      <td>1.000000</td>\n",
       "      <td>1.000000</td>\n",
       "      <td>1.000000</td>\n",
       "      <td>1.000000</td>\n",
       "      <td>0.349274</td>\n",
       "      <td>0.000000</td>\n",
       "      <td>0.000000</td>\n",
       "      <td>0.000000</td>\n",
       "      <td>0.000000</td>\n",
       "      <td>0.000000</td>\n",
       "      <td>0.000000</td>\n",
       "      <td>0.000000</td>\n",
       "      <td>0.367762</td>\n",
       "      <td>0.057906</td>\n",
       "      <td>0.000000</td>\n",
       "      <td>0.000000</td>\n",
       "    </tr>\n",
       "    <tr>\n",
       "      <th>25%</th>\n",
       "      <td>1.000000</td>\n",
       "      <td>1.000000</td>\n",
       "      <td>16.000000</td>\n",
       "      <td>16.000000</td>\n",
       "      <td>15.000000</td>\n",
       "      <td>14.000000</td>\n",
       "      <td>11.000000</td>\n",
       "      <td>8.000000</td>\n",
       "      <td>22.271597</td>\n",
       "      <td>7.939315</td>\n",
       "      <td>1.249050</td>\n",
       "      <td>0.081554</td>\n",
       "      <td>0.000000</td>\n",
       "      <td>0.000000</td>\n",
       "      <td>0.000000</td>\n",
       "      <td>0.000000</td>\n",
       "      <td>0.502855</td>\n",
       "      <td>0.095799</td>\n",
       "      <td>0.000000</td>\n",
       "      <td>0.000000</td>\n",
       "    </tr>\n",
       "    <tr>\n",
       "      <th>50%</th>\n",
       "      <td>1.000000</td>\n",
       "      <td>1.000000</td>\n",
       "      <td>35.000000</td>\n",
       "      <td>35.000000</td>\n",
       "      <td>32.000000</td>\n",
       "      <td>29.000000</td>\n",
       "      <td>25.000000</td>\n",
       "      <td>18.000000</td>\n",
       "      <td>44.249119</td>\n",
       "      <td>17.038020</td>\n",
       "      <td>4.423472</td>\n",
       "      <td>0.484829</td>\n",
       "      <td>0.022248</td>\n",
       "      <td>0.001554</td>\n",
       "      <td>0.000000</td>\n",
       "      <td>0.000000</td>\n",
       "      <td>0.523308</td>\n",
       "      <td>0.106623</td>\n",
       "      <td>0.000000</td>\n",
       "      <td>1.000000</td>\n",
       "    </tr>\n",
       "    <tr>\n",
       "      <th>75%</th>\n",
       "      <td>1.000000</td>\n",
       "      <td>1.000000</td>\n",
       "      <td>55.000000</td>\n",
       "      <td>53.000000</td>\n",
       "      <td>51.000000</td>\n",
       "      <td>48.000000</td>\n",
       "      <td>43.000000</td>\n",
       "      <td>32.000000</td>\n",
       "      <td>87.804112</td>\n",
       "      <td>31.305692</td>\n",
       "      <td>11.766880</td>\n",
       "      <td>1.921648</td>\n",
       "      <td>0.191953</td>\n",
       "      <td>0.038450</td>\n",
       "      <td>0.004832</td>\n",
       "      <td>0.003851</td>\n",
       "      <td>0.543670</td>\n",
       "      <td>0.119591</td>\n",
       "      <td>1.000000</td>\n",
       "      <td>1.000000</td>\n",
       "    </tr>\n",
       "    <tr>\n",
       "      <th>max</th>\n",
       "      <td>1.000000</td>\n",
       "      <td>1.000000</td>\n",
       "      <td>151.000000</td>\n",
       "      <td>132.000000</td>\n",
       "      <td>120.000000</td>\n",
       "      <td>105.000000</td>\n",
       "      <td>97.000000</td>\n",
       "      <td>89.000000</td>\n",
       "      <td>403.939108</td>\n",
       "      <td>167.131427</td>\n",
       "      <td>106.070092</td>\n",
       "      <td>59.766121</td>\n",
       "      <td>51.423208</td>\n",
       "      <td>20.098605</td>\n",
       "      <td>5.937799</td>\n",
       "      <td>3.086753</td>\n",
       "      <td>0.592217</td>\n",
       "      <td>0.219199</td>\n",
       "      <td>1.000000</td>\n",
       "      <td>1.000000</td>\n",
       "    </tr>\n",
       "  </tbody>\n",
       "</table>\n",
       "</div>"
      ],
      "text/plain": [
       "                 q           ps        nma.a        nma.b        nma.c  \\\n",
       "count  1151.000000  1151.000000  1151.000000  1151.000000  1151.000000   \n",
       "mean      0.996525     0.918332    38.428323    36.909644    35.140747   \n",
       "std       0.058874     0.273977    25.620913    24.105612    22.805400   \n",
       "min       0.000000     0.000000     1.000000     1.000000     1.000000   \n",
       "25%       1.000000     1.000000    16.000000    16.000000    15.000000   \n",
       "50%       1.000000     1.000000    35.000000    35.000000    32.000000   \n",
       "75%       1.000000     1.000000    55.000000    53.000000    51.000000   \n",
       "max       1.000000     1.000000   151.000000   132.000000   120.000000   \n",
       "\n",
       "             nma.d        nma.e        nma.f        nex.a        nex.b  \\\n",
       "count  1151.000000  1151.000000  1151.000000  1151.000000  1151.000000   \n",
       "mean     32.297133    28.747176    21.151173    64.096674    23.088012   \n",
       "std      21.114767    19.509227    15.101560    58.485289    21.602696   \n",
       "min       1.000000     1.000000     1.000000     0.349274     0.000000   \n",
       "25%      14.000000    11.000000     8.000000    22.271597     7.939315   \n",
       "50%      29.000000    25.000000    18.000000    44.249119    17.038020   \n",
       "75%      48.000000    43.000000    32.000000    87.804112    31.305692   \n",
       "max     105.000000    97.000000    89.000000   403.939108   167.131427   \n",
       "\n",
       "             nex.c        nex.d        nex.e        nex.g        nex.f  \\\n",
       "count  1151.000000  1151.000000  1151.000000  1151.000000  1151.000000   \n",
       "mean      8.704610     1.836489     0.560738     0.212290     0.085674   \n",
       "std      11.567589     3.923224     2.484111     1.057126     0.398717   \n",
       "min       0.000000     0.000000     0.000000     0.000000     0.000000   \n",
       "25%       1.249050     0.081554     0.000000     0.000000     0.000000   \n",
       "50%       4.423472     0.484829     0.022248     0.001554     0.000000   \n",
       "75%      11.766880     1.921648     0.191953     0.038450     0.004832   \n",
       "max     106.070092    59.766121    51.423208    20.098605     5.937799   \n",
       "\n",
       "             nex.h           dd           dm         amfm        golds  \n",
       "count  1151.000000  1151.000000  1151.000000  1151.000000  1151.000000  \n",
       "mean      0.037225     0.523212     0.108431     0.336229     0.530843  \n",
       "std       0.178959     0.028055     0.017945     0.472624     0.499265  \n",
       "min       0.000000     0.367762     0.057906     0.000000     0.000000  \n",
       "25%       0.000000     0.502855     0.095799     0.000000     0.000000  \n",
       "50%       0.000000     0.523308     0.106623     0.000000     1.000000  \n",
       "75%       0.003851     0.543670     0.119591     1.000000     1.000000  \n",
       "max       3.086753     0.592217     0.219199     1.000000     1.000000  "
      ]
     },
     "execution_count": 8,
     "metadata": {},
     "output_type": "execute_result"
    }
   ],
   "source": [
    "df_1.describe()"
   ]
  },
  {
   "cell_type": "code",
   "execution_count": 9,
   "metadata": {
    "colab": {
     "base_uri": "https://localhost:8080/",
     "height": 85
    },
    "colab_type": "code",
    "id": "g4qI7iZDL0Ej",
    "outputId": "3bb488d2-e37f-481c-f5ca-ac6ace3b22d6"
   },
   "outputs": [
    {
     "name": "stdout",
     "output_type": "stream",
     "text": [
      "Index(['q', 'ps', 'nma.a', 'nma.b', 'nma.c', 'nma.d', 'nma.e', 'nma.f',\n",
      "       'nex.a', 'nex.b', 'nex.c', 'nex.d', 'nex.e', 'nex.g', 'nex.f', 'nex.h',\n",
      "       'dd', 'dm', 'amfm', 'golds'],\n",
      "      dtype='object')\n"
     ]
    }
   ],
   "source": [
    "print(df_1.columns)"
   ]
  },
  {
   "cell_type": "code",
   "execution_count": 10,
   "metadata": {
    "colab": {
     "base_uri": "https://localhost:8080/",
     "height": 68
    },
    "colab_type": "code",
    "id": "aT-cFXDQ5b04",
    "outputId": "0fe480d3-600b-4a83-b9fe-0ff452e9d5c6"
   },
   "outputs": [
    {
     "name": "stdout",
     "output_type": "stream",
     "text": [
      "0.5234354484451719\n",
      "0.588851\n",
      "0.367762\n"
     ]
    }
   ],
   "source": [
    "c = df_1['golds'] == 1 \n",
    "dd = df_1[c]\n",
    "print(dd['dd'].mean())\n",
    "print(dd['dd'].max())\n",
    "print(dd['dd'].min())"
   ]
  },
  {
   "cell_type": "markdown",
   "metadata": {
    "colab_type": "text",
    "id": "yeM7ugLnmL6w"
   },
   "source": [
    "## Cleansing Data"
   ]
  },
  {
   "cell_type": "code",
   "execution_count": 11,
   "metadata": {
    "colab": {
     "base_uri": "https://localhost:8080/",
     "height": 595
    },
    "colab_type": "code",
    "id": "_KvimO1qs27x",
    "outputId": "fcf66dea-b128-48f8-82d5-e25ccda8615b"
   },
   "outputs": [
    {
     "data": {
      "image/png": "[encoded data removed]",
      "text/plain": [
       "<Figure size 720x720 with 1 Axes>"
      ]
     },
     "metadata": {
      "needs_background": "light"
     },
     "output_type": "display_data"
    }
   ],
   "source": [
    "def plot_corr(df,size=10):\n",
    "    corr = df.corr()\n",
    "    fig, ax = plt.subplots(figsize=(size, size))\n",
    "    ax.matshow(corr)\n",
    "    plt.xticks(range(len(corr.columns)), corr.columns);\n",
    "    plt.yticks(range(len(corr.columns)), corr.columns);\n",
    "plot_corr(df_1, 10)"
   ]
  },
  {
   "cell_type": "code",
   "execution_count": 12,
   "metadata": {
    "colab": {},
    "colab_type": "code",
    "id": "L9uEzgtaHEix"
   },
   "outputs": [],
   "source": [
    "def find_outlier(df, col_name):\n",
    "    plt.show()\n",
    "    q3 = df[col_name].quantile(0.75)\n",
    "    q1 = df[col_name].quantile(0.25)\n",
    "    iqr = q3 - q1\n",
    "    outliers =  (df[col_name] > (q3 + 1.5 * iqr)) | (df[col_name] < (q1 - 1.5 * iqr))\n",
    "    return df[outliers]"
   ]
  },
  {
   "cell_type": "code",
   "execution_count": 13,
   "metadata": {
    "colab": {},
    "colab_type": "code",
    "id": "trrtemdOBQsZ"
   },
   "outputs": [],
   "source": [
    "def truncate(df, col_name):\n",
    "    outlier = find_outlier(df, col_name)\n",
    "    df_no_outlier = df_1[~df_1.isin(outlier)].dropna()\n",
    "    max_ = df_no_outlier[col_name].max()\n",
    "    outlier[col_name] = max_\n",
    "    df_no_outlier = pd.concat([df_no_outlier, outlier], axis=0)\n",
    "    df_no_outlier = df_no_outlier.sort_index()\n",
    "    return df_no_outlier"
   ]
  },
  {
   "cell_type": "markdown",
   "metadata": {
    "colab_type": "text",
    "id": "fd0aWGgSqbfE"
   },
   "source": [
    "### nma"
   ]
  },
  {
   "cell_type": "code",
   "execution_count": 14,
   "metadata": {
    "colab": {
     "base_uri": "https://localhost:8080/",
     "height": 282
    },
    "colab_type": "code",
    "id": "yItk0PXdeEoY",
    "outputId": "813f071c-de8e-4942-d808-fbc157f9d9f1"
   },
   "outputs": [
    {
     "data": {
      "text/plain": [
       "<matplotlib.axes._subplots.AxesSubplot at 0x26982028e08>"
      ]
     },
     "execution_count": 14,
     "metadata": {},
     "output_type": "execute_result"
    },
    {
     "data": {
      "image/png": "[encoded data removed]",
      "text/plain": [
       "<Figure size 432x288 with 1 Axes>"
      ]
     },
     "metadata": {
      "needs_background": "light"
     },
     "output_type": "display_data"
    }
   ],
   "source": [
    "df_1[df_1.columns[2]].plot(kind='box')"
   ]
  },
  {
   "cell_type": "code",
   "execution_count": 15,
   "metadata": {
    "colab": {
     "base_uri": "https://localhost:8080/",
     "height": 384
    },
    "colab_type": "code",
    "id": "xxtLuK-pCD2e",
    "outputId": "7f31a821-5cea-4936-a8b3-75b8f1a2a0b4"
   },
   "outputs": [
    {
     "name": "stderr",
     "output_type": "stream",
     "text": [
      "c:\\users\\isada\\workspace\\a\\venv\\lib\\site-packages\\ipykernel_launcher.py:5: SettingWithCopyWarning: \n",
      "A value is trying to be set on a copy of a slice from a DataFrame.\n",
      "Try using .loc[row_indexer,col_indexer] = value instead\n",
      "\n",
      "See the caveats in the documentation: https://pandas.pydata.org/pandas-docs/stable/user_guide/indexing.html#returning-a-view-versus-a-copy\n",
      "  \"\"\"\n"
     ]
    },
    {
     "data": {
      "text/plain": [
       "<matplotlib.axes._subplots.AxesSubplot at 0x26982093988>"
      ]
     },
     "execution_count": 15,
     "metadata": {},
     "output_type": "execute_result"
    },
    {
     "data": {
      "image/png": "[encoded data removed]",
      "text/plain": [
       "<Figure size 432x288 with 1 Axes>"
      ]
     },
     "metadata": {
      "needs_background": "light"
     },
     "output_type": "display_data"
    }
   ],
   "source": [
    "df_new = truncate(df_1, df_1.columns[2])\n",
    "df_new[df_1.columns[2]].plot(kind='box')"
   ]
  },
  {
   "cell_type": "code",
   "execution_count": 16,
   "metadata": {
    "colab": {
     "base_uri": "https://localhost:8080/",
     "height": 632
    },
    "colab_type": "code",
    "id": "m0Rfw-BCqAjZ",
    "outputId": "9204ea3e-701e-4d55-8c2a-119a29559137"
   },
   "outputs": [
    {
     "data": {
      "image/png": "[encoded data removed]",
      "text/plain": [
       "<Figure size 432x288 with 1 Axes>"
      ]
     },
     "metadata": {
      "needs_background": "light"
     },
     "output_type": "display_data"
    },
    {
     "name": "stderr",
     "output_type": "stream",
     "text": [
      "c:\\users\\isada\\workspace\\a\\venv\\lib\\site-packages\\ipykernel_launcher.py:5: SettingWithCopyWarning: \n",
      "A value is trying to be set on a copy of a slice from a DataFrame.\n",
      "Try using .loc[row_indexer,col_indexer] = value instead\n",
      "\n",
      "See the caveats in the documentation: https://pandas.pydata.org/pandas-docs/stable/user_guide/indexing.html#returning-a-view-versus-a-copy\n",
      "  \"\"\"\n"
     ]
    },
    {
     "data": {
      "text/plain": [
       "<matplotlib.axes._subplots.AxesSubplot at 0x269821a3cc8>"
      ]
     },
     "execution_count": 16,
     "metadata": {},
     "output_type": "execute_result"
    },
    {
     "data": {
      "image/png": "[encoded data removed]",
      "text/plain": [
       "<Figure size 432x288 with 1 Axes>"
      ]
     },
     "metadata": {
      "needs_background": "light"
     },
     "output_type": "display_data"
    }
   ],
   "source": [
    "df_new[df_new.columns[3]].plot(kind='box')\n",
    "df_new = truncate(df_new, df_new.columns[3])\n",
    "df_new[df_new.columns[3]].plot(kind='box')"
   ]
  },
  {
   "cell_type": "code",
   "execution_count": 17,
   "metadata": {
    "colab": {
     "base_uri": "https://localhost:8080/",
     "height": 632
    },
    "colab_type": "code",
    "id": "MbLwULZ8qCba",
    "outputId": "f85cf220-b0af-4fdd-82b6-50f31231db94"
   },
   "outputs": [
    {
     "data": {
      "image/png": "[encoded data removed]",
      "text/plain": [
       "<Figure size 432x288 with 1 Axes>"
      ]
     },
     "metadata": {
      "needs_background": "light"
     },
     "output_type": "display_data"
    },
    {
     "name": "stderr",
     "output_type": "stream",
     "text": [
      "c:\\users\\isada\\workspace\\a\\venv\\lib\\site-packages\\ipykernel_launcher.py:5: SettingWithCopyWarning: \n",
      "A value is trying to be set on a copy of a slice from a DataFrame.\n",
      "Try using .loc[row_indexer,col_indexer] = value instead\n",
      "\n",
      "See the caveats in the documentation: https://pandas.pydata.org/pandas-docs/stable/user_guide/indexing.html#returning-a-view-versus-a-copy\n",
      "  \"\"\"\n"
     ]
    },
    {
     "data": {
      "text/plain": [
       "<matplotlib.axes._subplots.AxesSubplot at 0x26982276908>"
      ]
     },
     "execution_count": 17,
     "metadata": {},
     "output_type": "execute_result"
    },
    {
     "data": {
      "image/png": "[encoded data removed]",
      "text/plain": [
       "<Figure size 432x288 with 1 Axes>"
      ]
     },
     "metadata": {
      "needs_background": "light"
     },
     "output_type": "display_data"
    }
   ],
   "source": [
    "df_new[df_new.columns[4]].plot(kind='box')\n",
    "df_new = truncate(df_new, df_new.columns[4])\n",
    "df_new[df_new.columns[4]].plot(kind='box')"
   ]
  },
  {
   "cell_type": "code",
   "execution_count": 18,
   "metadata": {
    "colab": {
     "base_uri": "https://localhost:8080/",
     "height": 632
    },
    "colab_type": "code",
    "id": "MoQIhcSrqFpZ",
    "outputId": "033598d3-a777-4950-e52b-01ff027c7c13"
   },
   "outputs": [
    {
     "data": {
      "image/png": "[encoded data removed]",
      "text/plain": [
       "<Figure size 432x288 with 1 Axes>"
      ]
     },
     "metadata": {
      "needs_background": "light"
     },
     "output_type": "display_data"
    },
    {
     "name": "stderr",
     "output_type": "stream",
     "text": [
      "c:\\users\\isada\\workspace\\a\\venv\\lib\\site-packages\\ipykernel_launcher.py:5: SettingWithCopyWarning: \n",
      "A value is trying to be set on a copy of a slice from a DataFrame.\n",
      "Try using .loc[row_indexer,col_indexer] = value instead\n",
      "\n",
      "See the caveats in the documentation: https://pandas.pydata.org/pandas-docs/stable/user_guide/indexing.html#returning-a-view-versus-a-copy\n",
      "  \"\"\"\n"
     ]
    },
    {
     "data": {
      "text/plain": [
       "<matplotlib.axes._subplots.AxesSubplot at 0x26982347bc8>"
      ]
     },
     "execution_count": 18,
     "metadata": {},
     "output_type": "execute_result"
    },
    {
     "data": {
      "image/png": "[encoded data removed]",
      "text/plain": [
       "<Figure size 432x288 with 1 Axes>"
      ]
     },
     "metadata": {
      "needs_background": "light"
     },
     "output_type": "display_data"
    }
   ],
   "source": [
    "df_new[df_new.columns[5]].plot(kind='box')\n",
    "df_new = truncate(df_new, df_new.columns[5])\n",
    "df_new[df_new.columns[5]].plot(kind='box')"
   ]
  },
  {
   "cell_type": "code",
   "execution_count": 19,
   "metadata": {
    "colab": {
     "base_uri": "https://localhost:8080/",
     "height": 633
    },
    "colab_type": "code",
    "id": "oxz0v1wXqIrG",
    "outputId": "d5c80bb6-bf0b-442b-95d2-59e688be9204"
   },
   "outputs": [
    {
     "data": {
      "image/png": "[encoded data removed]",
      "text/plain": [
       "<Figure size 432x288 with 1 Axes>"
      ]
     },
     "metadata": {
      "needs_background": "light"
     },
     "output_type": "display_data"
    },
    {
     "name": "stderr",
     "output_type": "stream",
     "text": [
      "c:\\users\\isada\\workspace\\a\\venv\\lib\\site-packages\\ipykernel_launcher.py:5: SettingWithCopyWarning: \n",
      "A value is trying to be set on a copy of a slice from a DataFrame.\n",
      "Try using .loc[row_indexer,col_indexer] = value instead\n",
      "\n",
      "See the caveats in the documentation: https://pandas.pydata.org/pandas-docs/stable/user_guide/indexing.html#returning-a-view-versus-a-copy\n",
      "  \"\"\"\n"
     ]
    },
    {
     "data": {
      "text/plain": [
       "<matplotlib.axes._subplots.AxesSubplot at 0x2698218b448>"
      ]
     },
     "execution_count": 19,
     "metadata": {},
     "output_type": "execute_result"
    },
    {
     "data": {
      "image/png": "[encoded data removed]",
      "text/plain": [
       "<Figure size 432x288 with 1 Axes>"
      ]
     },
     "metadata": {
      "needs_background": "light"
     },
     "output_type": "display_data"
    }
   ],
   "source": [
    "df_new[df_new.columns[6]].plot(kind='box')\n",
    "df_new = truncate(df_new, df_new.columns[6])\n",
    "df_new[df_new.columns[6]].plot(kind='box')"
   ]
  },
  {
   "cell_type": "code",
   "execution_count": 20,
   "metadata": {
    "colab": {
     "base_uri": "https://localhost:8080/",
     "height": 632
    },
    "colab_type": "code",
    "id": "n7gV22alqLJd",
    "outputId": "16f3cf1c-77d8-4ca3-9fd0-ccd54bc71651"
   },
   "outputs": [
    {
     "data": {
      "image/png": "[encoded data removed]",
      "text/plain": [
       "<Figure size 432x288 with 1 Axes>"
      ]
     },
     "metadata": {
      "needs_background": "light"
     },
     "output_type": "display_data"
    },
    {
     "name": "stderr",
     "output_type": "stream",
     "text": [
      "c:\\users\\isada\\workspace\\a\\venv\\lib\\site-packages\\ipykernel_launcher.py:5: SettingWithCopyWarning: \n",
      "A value is trying to be set on a copy of a slice from a DataFrame.\n",
      "Try using .loc[row_indexer,col_indexer] = value instead\n",
      "\n",
      "See the caveats in the documentation: https://pandas.pydata.org/pandas-docs/stable/user_guide/indexing.html#returning-a-view-versus-a-copy\n",
      "  \"\"\"\n"
     ]
    },
    {
     "data": {
      "text/plain": [
       "<matplotlib.axes._subplots.AxesSubplot at 0x269ff1d71c8>"
      ]
     },
     "execution_count": 20,
     "metadata": {},
     "output_type": "execute_result"
    },
    {
     "data": {
      "image/png": "[encoded data removed]",
      "text/plain": [
       "<Figure size 432x288 with 1 Axes>"
      ]
     },
     "metadata": {
      "needs_background": "light"
     },
     "output_type": "display_data"
    }
   ],
   "source": [
    "df_new[df_new.columns[5]].plot(kind='box')\n",
    "df_new = truncate(df_new, df_new.columns[5])\n",
    "df_new[df_new.columns[5]].plot(kind='box')"
   ]
  },
  {
   "cell_type": "markdown",
   "metadata": {
    "colab_type": "text",
    "id": "rH4M51Swqi-w"
   },
   "source": [
    "### nex"
   ]
  },
  {
   "cell_type": "code",
   "execution_count": 21,
   "metadata": {
    "colab": {
     "base_uri": "https://localhost:8080/",
     "height": 632
    },
    "colab_type": "code",
    "id": "sZtZG6o4qpax",
    "outputId": "e3f7ed29-df07-44d9-c8ac-054f8c779316"
   },
   "outputs": [
    {
     "data": {
      "image/png": "[encoded data removed]",
      "text/plain": [
       "<Figure size 432x288 with 1 Axes>"
      ]
     },
     "metadata": {
      "needs_background": "light"
     },
     "output_type": "display_data"
    },
    {
     "name": "stderr",
     "output_type": "stream",
     "text": [
      "c:\\users\\isada\\workspace\\a\\venv\\lib\\site-packages\\ipykernel_launcher.py:5: SettingWithCopyWarning: \n",
      "A value is trying to be set on a copy of a slice from a DataFrame.\n",
      "Try using .loc[row_indexer,col_indexer] = value instead\n",
      "\n",
      "See the caveats in the documentation: https://pandas.pydata.org/pandas-docs/stable/user_guide/indexing.html#returning-a-view-versus-a-copy\n",
      "  \"\"\"\n"
     ]
    },
    {
     "data": {
      "text/plain": [
       "<matplotlib.axes._subplots.AxesSubplot at 0x269823b9a48>"
      ]
     },
     "execution_count": 21,
     "metadata": {},
     "output_type": "execute_result"
    },
    {
     "data": {
      "image/png": "[encoded data removed]",
      "text/plain": [
       "<Figure size 432x288 with 1 Axes>"
      ]
     },
     "metadata": {
      "needs_background": "light"
     },
     "output_type": "display_data"
    }
   ],
   "source": [
    "df_new[df_new.columns[8]].plot(kind='box')\n",
    "df_new = truncate(df_new, df_new.columns[8])\n",
    "df_new[df_new.columns[8]].plot(kind='box')"
   ]
  },
  {
   "cell_type": "code",
   "execution_count": 22,
   "metadata": {
    "colab": {
     "base_uri": "https://localhost:8080/",
     "height": 636
    },
    "colab_type": "code",
    "id": "rCMYt3zuqtFa",
    "outputId": "6055de72-1589-4f65-b8b7-5969a2f6eb03"
   },
   "outputs": [
    {
     "data": {
      "image/png": "[encoded data removed]",
      "text/plain": [
       "<Figure size 432x288 with 1 Axes>"
      ]
     },
     "metadata": {
      "needs_background": "light"
     },
     "output_type": "display_data"
    },
    {
     "name": "stderr",
     "output_type": "stream",
     "text": [
      "c:\\users\\isada\\workspace\\a\\venv\\lib\\site-packages\\ipykernel_launcher.py:5: SettingWithCopyWarning: \n",
      "A value is trying to be set on a copy of a slice from a DataFrame.\n",
      "Try using .loc[row_indexer,col_indexer] = value instead\n",
      "\n",
      "See the caveats in the documentation: https://pandas.pydata.org/pandas-docs/stable/user_guide/indexing.html#returning-a-view-versus-a-copy\n",
      "  \"\"\"\n"
     ]
    },
    {
     "data": {
      "text/plain": [
       "<matplotlib.axes._subplots.AxesSubplot at 0x26982495088>"
      ]
     },
     "execution_count": 22,
     "metadata": {},
     "output_type": "execute_result"
    },
    {
     "data": {
      "image/png": "[encoded data removed]",
      "text/plain": [
       "<Figure size 432x288 with 1 Axes>"
      ]
     },
     "metadata": {
      "needs_background": "light"
     },
     "output_type": "display_data"
    }
   ],
   "source": [
    "df_new[df_new.columns[9]].plot(kind='box')\n",
    "df_new = truncate(df_new, df_new.columns[9])\n",
    "df_new[df_new.columns[9]].plot(kind='box')"
   ]
  },
  {
   "cell_type": "code",
   "execution_count": 23,
   "metadata": {
    "colab": {
     "base_uri": "https://localhost:8080/",
     "height": 632
    },
    "colab_type": "code",
    "id": "u7X6fTBiqwZ6",
    "outputId": "81618d8a-4bb5-43bc-affc-6f5796c41b03"
   },
   "outputs": [
    {
     "data": {
      "image/png": "[encoded data removed]",
      "text/plain": [
       "<Figure size 432x288 with 1 Axes>"
      ]
     },
     "metadata": {
      "needs_background": "light"
     },
     "output_type": "display_data"
    },
    {
     "name": "stderr",
     "output_type": "stream",
     "text": [
      "c:\\users\\isada\\workspace\\a\\venv\\lib\\site-packages\\ipykernel_launcher.py:5: SettingWithCopyWarning: \n",
      "A value is trying to be set on a copy of a slice from a DataFrame.\n",
      "Try using .loc[row_indexer,col_indexer] = value instead\n",
      "\n",
      "See the caveats in the documentation: https://pandas.pydata.org/pandas-docs/stable/user_guide/indexing.html#returning-a-view-versus-a-copy\n",
      "  \"\"\"\n"
     ]
    },
    {
     "data": {
      "text/plain": [
       "<matplotlib.axes._subplots.AxesSubplot at 0x26982568f88>"
      ]
     },
     "execution_count": 23,
     "metadata": {},
     "output_type": "execute_result"
    },
    {
     "data": {
      "image/png": "[encoded data removed]",
      "text/plain": [
       "<Figure size 432x288 with 1 Axes>"
      ]
     },
     "metadata": {
      "needs_background": "light"
     },
     "output_type": "display_data"
    }
   ],
   "source": [
    "df_new[df_new.columns[10]].plot(kind='box')\n",
    "df_new = truncate(df_new, df_new.columns[10])\n",
    "df_new[df_new.columns[10]].plot(kind='box')"
   ]
  },
  {
   "cell_type": "code",
   "execution_count": 24,
   "metadata": {
    "colab": {
     "base_uri": "https://localhost:8080/",
     "height": 632
    },
    "colab_type": "code",
    "id": "0qZR3Zmmq1ND",
    "outputId": "2c253e3d-28e2-4f8c-e909-34dcfe660b73"
   },
   "outputs": [
    {
     "data": {
      "image/png": "[encoded data removed]",
      "text/plain": [
       "<Figure size 432x288 with 1 Axes>"
      ]
     },
     "metadata": {
      "needs_background": "light"
     },
     "output_type": "display_data"
    },
    {
     "name": "stderr",
     "output_type": "stream",
     "text": [
      "c:\\users\\isada\\workspace\\a\\venv\\lib\\site-packages\\ipykernel_launcher.py:5: SettingWithCopyWarning: \n",
      "A value is trying to be set on a copy of a slice from a DataFrame.\n",
      "Try using .loc[row_indexer,col_indexer] = value instead\n",
      "\n",
      "See the caveats in the documentation: https://pandas.pydata.org/pandas-docs/stable/user_guide/indexing.html#returning-a-view-versus-a-copy\n",
      "  \"\"\"\n"
     ]
    },
    {
     "data": {
      "text/plain": [
       "<matplotlib.axes._subplots.AxesSubplot at 0x2698263c808>"
      ]
     },
     "execution_count": 24,
     "metadata": {},
     "output_type": "execute_result"
    },
    {
     "data": {
      "image/png": "[encoded data removed]",
      "text/plain": [
       "<Figure size 432x288 with 1 Axes>"
      ]
     },
     "metadata": {
      "needs_background": "light"
     },
     "output_type": "display_data"
    }
   ],
   "source": [
    "df_new[df_new.columns[11]].plot(kind='box')\n",
    "df_new = truncate(df_new, df_new.columns[11])\n",
    "df_new[df_new.columns[11]].plot(kind='box')"
   ]
  },
  {
   "cell_type": "code",
   "execution_count": 25,
   "metadata": {
    "colab": {
     "base_uri": "https://localhost:8080/",
     "height": 530
    },
    "colab_type": "code",
    "id": "Oxvrz9Hbq2lE",
    "outputId": "898854ee-592f-4c4e-f2b3-92444186f6a3"
   },
   "outputs": [
    {
     "data": {
      "image/png": "[encoded data removed]",
      "text/plain": [
       "<Figure size 432x288 with 1 Axes>"
      ]
     },
     "metadata": {
      "needs_background": "light"
     },
     "output_type": "display_data"
    },
    {
     "data": {
      "text/plain": [
       "<matplotlib.axes._subplots.AxesSubplot at 0x269825fa8c8>"
      ]
     },
     "execution_count": 25,
     "metadata": {},
     "output_type": "execute_result"
    },
    {
     "data": {
      "image/png": "[encoded data removed]",
      "text/plain": [
       "<Figure size 432x288 with 1 Axes>"
      ]
     },
     "metadata": {
      "needs_background": "light"
     },
     "output_type": "display_data"
    }
   ],
   "source": [
    "df_new[df_new.columns[11]].plot(kind='box')\n",
    "df_new = truncate(df_new, df_new.columns[11])\n",
    "df_new[df_new.columns[11]].plot(kind='box')"
   ]
  },
  {
   "cell_type": "code",
   "execution_count": 26,
   "metadata": {
    "colab": {
     "base_uri": "https://localhost:8080/",
     "height": 632
    },
    "colab_type": "code",
    "id": "pvvViPN6q8Ih",
    "outputId": "39983b51-6570-469c-ed9c-70c9e5a5b1b3"
   },
   "outputs": [
    {
     "data": {
      "image/png": "[encoded data removed]",
      "text/plain": [
       "<Figure size 432x288 with 1 Axes>"
      ]
     },
     "metadata": {
      "needs_background": "light"
     },
     "output_type": "display_data"
    },
    {
     "name": "stderr",
     "output_type": "stream",
     "text": [
      "c:\\users\\isada\\workspace\\a\\venv\\lib\\site-packages\\ipykernel_launcher.py:5: SettingWithCopyWarning: \n",
      "A value is trying to be set on a copy of a slice from a DataFrame.\n",
      "Try using .loc[row_indexer,col_indexer] = value instead\n",
      "\n",
      "See the caveats in the documentation: https://pandas.pydata.org/pandas-docs/stable/user_guide/indexing.html#returning-a-view-versus-a-copy\n",
      "  \"\"\"\n"
     ]
    },
    {
     "data": {
      "text/plain": [
       "<matplotlib.axes._subplots.AxesSubplot at 0x26982364dc8>"
      ]
     },
     "execution_count": 26,
     "metadata": {},
     "output_type": "execute_result"
    },
    {
     "data": {
      "image/png": "[encoded data removed]",
      "text/plain": [
       "<Figure size 432x288 with 1 Axes>"
      ]
     },
     "metadata": {
      "needs_background": "light"
     },
     "output_type": "display_data"
    }
   ],
   "source": [
    "df_new[df_new.columns[13]].plot(kind='box')\n",
    "df_new = truncate(df_new, df_new.columns[13])\n",
    "df_new[df_new.columns[13]].plot(kind='box')"
   ]
  },
  {
   "cell_type": "code",
   "execution_count": 27,
   "metadata": {
    "colab": {
     "base_uri": "https://localhost:8080/",
     "height": 632
    },
    "colab_type": "code",
    "id": "mpDTTiPeq_Fq",
    "outputId": "8efd91a0-b905-4a71-9aef-b23b4ff2034c"
   },
   "outputs": [
    {
     "data": {
      "image/png": "[encoded data removed]",
      "text/plain": [
       "<Figure size 432x288 with 1 Axes>"
      ]
     },
     "metadata": {
      "needs_background": "light"
     },
     "output_type": "display_data"
    },
    {
     "name": "stderr",
     "output_type": "stream",
     "text": [
      "c:\\users\\isada\\workspace\\a\\venv\\lib\\site-packages\\ipykernel_launcher.py:5: SettingWithCopyWarning: \n",
      "A value is trying to be set on a copy of a slice from a DataFrame.\n",
      "Try using .loc[row_indexer,col_indexer] = value instead\n",
      "\n",
      "See the caveats in the documentation: https://pandas.pydata.org/pandas-docs/stable/user_guide/indexing.html#returning-a-view-versus-a-copy\n",
      "  \"\"\"\n"
     ]
    },
    {
     "data": {
      "text/plain": [
       "<matplotlib.axes._subplots.AxesSubplot at 0x2698225e5c8>"
      ]
     },
     "execution_count": 27,
     "metadata": {},
     "output_type": "execute_result"
    },
    {
     "data": {
      "image/png": "[encoded data removed]",
      "text/plain": [
       "<Figure size 432x288 with 1 Axes>"
      ]
     },
     "metadata": {
      "needs_background": "light"
     },
     "output_type": "display_data"
    }
   ],
   "source": [
    "df_new[df_new.columns[14]].plot(kind='box')\n",
    "df_new = truncate(df_new, df_new.columns[14])\n",
    "df_new[df_new.columns[14]].plot(kind='box')"
   ]
  },
  {
   "cell_type": "code",
   "execution_count": 28,
   "metadata": {
    "colab": {
     "base_uri": "https://localhost:8080/",
     "height": 632
    },
    "colab_type": "code",
    "id": "bZy9_u-trCL6",
    "outputId": "de2f80ae-e836-4c03-87fc-5a220f18ae7d"
   },
   "outputs": [
    {
     "data": {
      "image/png": "[encoded data removed]",
      "text/plain": [
       "<Figure size 432x288 with 1 Axes>"
      ]
     },
     "metadata": {
      "needs_background": "light"
     },
     "output_type": "display_data"
    },
    {
     "name": "stderr",
     "output_type": "stream",
     "text": [
      "c:\\users\\isada\\workspace\\a\\venv\\lib\\site-packages\\ipykernel_launcher.py:5: SettingWithCopyWarning: \n",
      "A value is trying to be set on a copy of a slice from a DataFrame.\n",
      "Try using .loc[row_indexer,col_indexer] = value instead\n",
      "\n",
      "See the caveats in the documentation: https://pandas.pydata.org/pandas-docs/stable/user_guide/indexing.html#returning-a-view-versus-a-copy\n",
      "  \"\"\"\n"
     ]
    },
    {
     "data": {
      "text/plain": [
       "<matplotlib.axes._subplots.AxesSubplot at 0x269836c5848>"
      ]
     },
     "execution_count": 28,
     "metadata": {},
     "output_type": "execute_result"
    },
    {
     "data": {
      "image/png": "[encoded data removed]",
      "text/plain": [
       "<Figure size 432x288 with 1 Axes>"
      ]
     },
     "metadata": {
      "needs_background": "light"
     },
     "output_type": "display_data"
    }
   ],
   "source": [
    "df_new[df_new.columns[15]].plot(kind='box')\n",
    "df_new = truncate(df_new, df_new.columns[15])\n",
    "df_new[df_new.columns[15]].plot(kind='box')"
   ]
  },
  {
   "cell_type": "code",
   "execution_count": 29,
   "metadata": {
    "colab": {
     "base_uri": "https://localhost:8080/",
     "height": 633
    },
    "colab_type": "code",
    "id": "zmG-0_Ja3fSx",
    "outputId": "6ba7afa6-fb76-497b-a422-9b5831932a2a"
   },
   "outputs": [
    {
     "data": {
      "image/png": "[encoded data removed]",
      "text/plain": [
       "<Figure size 432x288 with 1 Axes>"
      ]
     },
     "metadata": {
      "needs_background": "light"
     },
     "output_type": "display_data"
    },
    {
     "name": "stderr",
     "output_type": "stream",
     "text": [
      "c:\\users\\isada\\workspace\\a\\venv\\lib\\site-packages\\ipykernel_launcher.py:5: SettingWithCopyWarning: \n",
      "A value is trying to be set on a copy of a slice from a DataFrame.\n",
      "Try using .loc[row_indexer,col_indexer] = value instead\n",
      "\n",
      "See the caveats in the documentation: https://pandas.pydata.org/pandas-docs/stable/user_guide/indexing.html#returning-a-view-versus-a-copy\n",
      "  \"\"\"\n"
     ]
    },
    {
     "data": {
      "text/plain": [
       "<matplotlib.axes._subplots.AxesSubplot at 0x26983782ac8>"
      ]
     },
     "execution_count": 29,
     "metadata": {},
     "output_type": "execute_result"
    },
    {
     "data": {
      "image/png": "[encoded data removed]",
      "text/plain": [
       "<Figure size 432x288 with 1 Axes>"
      ]
     },
     "metadata": {
      "needs_background": "light"
     },
     "output_type": "display_data"
    }
   ],
   "source": [
    "df_new[df_new.columns[16]].plot(kind='box')\n",
    "df_new = truncate(df_new, df_new.columns[16])\n",
    "df_new[df_new.columns[16]].plot(kind='box')"
   ]
  },
  {
   "cell_type": "code",
   "execution_count": 30,
   "metadata": {
    "colab": {
     "base_uri": "https://localhost:8080/",
     "height": 119
    },
    "colab_type": "code",
    "id": "JYOBSlXU3LyD",
    "outputId": "f4782957-fad7-4c35-d0e4-779ae0240cc7"
   },
   "outputs": [
    {
     "name": "stdout",
     "output_type": "stream",
     "text": [
      "0.523884375925926\n",
      "0.592217\n",
      "0.446304\n",
      "0.5238028052373158\n",
      "0.592217\n",
      "0.44968\n"
     ]
    }
   ],
   "source": [
    "c = df_new['golds'] == 0 \n",
    "dd = df_new[c]\n",
    "print(dd['dd'].mean())\n",
    "print(dd['dd'].max())\n",
    "print(dd['dd'].min())\n",
    "\n",
    "c = df_new['golds'] == 1 \n",
    "dd = df_new[c]\n",
    "print(dd['dd'].mean())\n",
    "print(dd['dd'].max())\n",
    "print(dd['dd'].min())"
   ]
  },
  {
   "cell_type": "code",
   "execution_count": 31,
   "metadata": {
    "colab": {
     "base_uri": "https://localhost:8080/",
     "height": 632
    },
    "colab_type": "code",
    "id": "_zByZBrhFZ02",
    "outputId": "707aadeb-20b4-426e-b763-d7106cbfc7dc"
   },
   "outputs": [
    {
     "data": {
      "image/png": "[encoded data removed]",
      "text/plain": [
       "<Figure size 432x288 with 1 Axes>"
      ]
     },
     "metadata": {
      "needs_background": "light"
     },
     "output_type": "display_data"
    },
    {
     "name": "stderr",
     "output_type": "stream",
     "text": [
      "c:\\users\\isada\\workspace\\a\\venv\\lib\\site-packages\\ipykernel_launcher.py:5: SettingWithCopyWarning: \n",
      "A value is trying to be set on a copy of a slice from a DataFrame.\n",
      "Try using .loc[row_indexer,col_indexer] = value instead\n",
      "\n",
      "See the caveats in the documentation: https://pandas.pydata.org/pandas-docs/stable/user_guide/indexing.html#returning-a-view-versus-a-copy\n",
      "  \"\"\"\n"
     ]
    },
    {
     "data": {
      "text/plain": [
       "<matplotlib.axes._subplots.AxesSubplot at 0x269fdbe89c8>"
      ]
     },
     "execution_count": 31,
     "metadata": {},
     "output_type": "execute_result"
    },
    {
     "data": {
      "image/png": "[encoded data removed]",
      "text/plain": [
       "<Figure size 432x288 with 1 Axes>"
      ]
     },
     "metadata": {
      "needs_background": "light"
     },
     "output_type": "display_data"
    }
   ],
   "source": [
    "df_new[df_new.columns[17]].plot(kind='box')\n",
    "df_new = truncate(df_new, df_new.columns[17])\n",
    "df_new[df_new.columns[17]].plot(kind='box')"
   ]
  },
  {
   "cell_type": "code",
   "execution_count": 32,
   "metadata": {
    "colab": {},
    "colab_type": "code",
    "id": "UaUss0RHFxkB"
   },
   "outputs": [],
   "source": [
    "my_cri = df_new['q'] == 0\n",
    "a = df_new.index[my_cri].tolist()\n",
    "a\n",
    "df_new1 = df_new.drop(a)\n",
    "del df_new1['q']"
   ]
  },
  {
   "cell_type": "code",
   "execution_count": 33,
   "metadata": {
    "colab": {
     "base_uri": "https://localhost:8080/",
     "height": 204
    },
    "colab_type": "code",
    "id": "6K_q6-8THytg",
    "outputId": "09d99980-dc15-43bf-fbf6-614e84552edd"
   },
   "outputs": [
    {
     "data": {
      "text/html": [
       "<div>\n",
       "<style scoped>\n",
       "    .dataframe tbody tr th:only-of-type {\n",
       "        vertical-align: middle;\n",
       "    }\n",
       "\n",
       "    .dataframe tbody tr th {\n",
       "        vertical-align: top;\n",
       "    }\n",
       "\n",
       "    .dataframe thead th {\n",
       "        text-align: right;\n",
       "    }\n",
       "</style>\n",
       "<table border=\"1\" class=\"dataframe\">\n",
       "  <thead>\n",
       "    <tr style=\"text-align: right;\">\n",
       "      <th></th>\n",
       "      <th>ps</th>\n",
       "      <th>nma.a</th>\n",
       "      <th>nma.b</th>\n",
       "      <th>nma.c</th>\n",
       "      <th>nma.d</th>\n",
       "      <th>nma.e</th>\n",
       "      <th>nma.f</th>\n",
       "      <th>nex.a</th>\n",
       "      <th>nex.b</th>\n",
       "      <th>nex.c</th>\n",
       "      <th>nex.d</th>\n",
       "      <th>nex.e</th>\n",
       "      <th>nex.g</th>\n",
       "      <th>nex.f</th>\n",
       "      <th>nex.h</th>\n",
       "      <th>dd</th>\n",
       "      <th>dm</th>\n",
       "      <th>amfm</th>\n",
       "      <th>golds</th>\n",
       "    </tr>\n",
       "  </thead>\n",
       "  <tbody>\n",
       "    <tr>\n",
       "      <th>0</th>\n",
       "      <td>1.0</td>\n",
       "      <td>22.0</td>\n",
       "      <td>22.0</td>\n",
       "      <td>22.0</td>\n",
       "      <td>19.0</td>\n",
       "      <td>18.0</td>\n",
       "      <td>14.0</td>\n",
       "      <td>49.895756</td>\n",
       "      <td>17.775994</td>\n",
       "      <td>5.270920</td>\n",
       "      <td>0.771761</td>\n",
       "      <td>0.018632</td>\n",
       "      <td>0.006864</td>\n",
       "      <td>0.003923</td>\n",
       "      <td>0.003923</td>\n",
       "      <td>0.486903</td>\n",
       "      <td>0.100025</td>\n",
       "      <td>1.0</td>\n",
       "      <td>0.0</td>\n",
       "    </tr>\n",
       "    <tr>\n",
       "      <th>1</th>\n",
       "      <td>1.0</td>\n",
       "      <td>24.0</td>\n",
       "      <td>24.0</td>\n",
       "      <td>22.0</td>\n",
       "      <td>18.0</td>\n",
       "      <td>16.0</td>\n",
       "      <td>13.0</td>\n",
       "      <td>57.709936</td>\n",
       "      <td>23.799994</td>\n",
       "      <td>3.325423</td>\n",
       "      <td>0.234185</td>\n",
       "      <td>0.003903</td>\n",
       "      <td>0.003903</td>\n",
       "      <td>0.003903</td>\n",
       "      <td>0.003903</td>\n",
       "      <td>0.520908</td>\n",
       "      <td>0.144414</td>\n",
       "      <td>0.0</td>\n",
       "      <td>0.0</td>\n",
       "    </tr>\n",
       "    <tr>\n",
       "      <th>2</th>\n",
       "      <td>1.0</td>\n",
       "      <td>62.0</td>\n",
       "      <td>60.0</td>\n",
       "      <td>59.0</td>\n",
       "      <td>54.0</td>\n",
       "      <td>47.0</td>\n",
       "      <td>33.0</td>\n",
       "      <td>55.831441</td>\n",
       "      <td>27.993933</td>\n",
       "      <td>12.687485</td>\n",
       "      <td>4.852282</td>\n",
       "      <td>1.393889</td>\n",
       "      <td>0.373252</td>\n",
       "      <td>0.041817</td>\n",
       "      <td>0.007744</td>\n",
       "      <td>0.530904</td>\n",
       "      <td>0.128548</td>\n",
       "      <td>0.0</td>\n",
       "      <td>1.0</td>\n",
       "    </tr>\n",
       "    <tr>\n",
       "      <th>3</th>\n",
       "      <td>1.0</td>\n",
       "      <td>55.0</td>\n",
       "      <td>53.0</td>\n",
       "      <td>53.0</td>\n",
       "      <td>50.0</td>\n",
       "      <td>43.0</td>\n",
       "      <td>31.0</td>\n",
       "      <td>40.467228</td>\n",
       "      <td>18.445954</td>\n",
       "      <td>9.118901</td>\n",
       "      <td>3.079428</td>\n",
       "      <td>0.840261</td>\n",
       "      <td>0.272434</td>\n",
       "      <td>0.007653</td>\n",
       "      <td>0.001531</td>\n",
       "      <td>0.483284</td>\n",
       "      <td>0.114790</td>\n",
       "      <td>0.0</td>\n",
       "      <td>0.0</td>\n",
       "    </tr>\n",
       "    <tr>\n",
       "      <th>4</th>\n",
       "      <td>1.0</td>\n",
       "      <td>44.0</td>\n",
       "      <td>44.0</td>\n",
       "      <td>44.0</td>\n",
       "      <td>41.0</td>\n",
       "      <td>39.0</td>\n",
       "      <td>27.0</td>\n",
       "      <td>18.026254</td>\n",
       "      <td>8.570709</td>\n",
       "      <td>0.410381</td>\n",
       "      <td>0.000000</td>\n",
       "      <td>0.000000</td>\n",
       "      <td>0.000000</td>\n",
       "      <td>0.000000</td>\n",
       "      <td>0.000000</td>\n",
       "      <td>0.475935</td>\n",
       "      <td>0.123572</td>\n",
       "      <td>0.0</td>\n",
       "      <td>1.0</td>\n",
       "    </tr>\n",
       "  </tbody>\n",
       "</table>\n",
       "</div>"
      ],
      "text/plain": [
       "    ps  nma.a  nma.b  nma.c  nma.d  nma.e  nma.f      nex.a      nex.b  \\\n",
       "0  1.0   22.0   22.0   22.0   19.0   18.0   14.0  49.895756  17.775994   \n",
       "1  1.0   24.0   24.0   22.0   18.0   16.0   13.0  57.709936  23.799994   \n",
       "2  1.0   62.0   60.0   59.0   54.0   47.0   33.0  55.831441  27.993933   \n",
       "3  1.0   55.0   53.0   53.0   50.0   43.0   31.0  40.467228  18.445954   \n",
       "4  1.0   44.0   44.0   44.0   41.0   39.0   27.0  18.026254   8.570709   \n",
       "\n",
       "       nex.c     nex.d     nex.e     nex.g     nex.f     nex.h        dd  \\\n",
       "0   5.270920  0.771761  0.018632  0.006864  0.003923  0.003923  0.486903   \n",
       "1   3.325423  0.234185  0.003903  0.003903  0.003903  0.003903  0.520908   \n",
       "2  12.687485  4.852282  1.393889  0.373252  0.041817  0.007744  0.530904   \n",
       "3   9.118901  3.079428  0.840261  0.272434  0.007653  0.001531  0.483284   \n",
       "4   0.410381  0.000000  0.000000  0.000000  0.000000  0.000000  0.475935   \n",
       "\n",
       "         dm  amfm  golds  \n",
       "0  0.100025   1.0    0.0  \n",
       "1  0.144414   0.0    0.0  \n",
       "2  0.128548   0.0    1.0  \n",
       "3  0.114790   0.0    0.0  \n",
       "4  0.123572   0.0    1.0  "
      ]
     },
     "execution_count": 33,
     "metadata": {},
     "output_type": "execute_result"
    }
   ],
   "source": [
    "df_new1.head()"
   ]
  },
  {
   "cell_type": "markdown",
   "metadata": {
    "colab_type": "text",
    "id": "Q7ow8ooTJdMg"
   },
   "source": [
    "___\n",
    "### Combining features"
   ]
  },
  {
   "cell_type": "code",
   "execution_count": 34,
   "metadata": {
    "colab": {
     "base_uri": "https://localhost:8080/",
     "height": 595
    },
    "colab_type": "code",
    "id": "-cZOyiug12mS",
    "outputId": "fdaad665-5ed6-4a87-f79d-c44a5cd22755"
   },
   "outputs": [
    {
     "data": {
      "image/png": "[encoded data removed]",
      "text/plain": [
       "<Figure size 720x720 with 1 Axes>"
      ]
     },
     "metadata": {
      "needs_background": "light"
     },
     "output_type": "display_data"
    }
   ],
   "source": [
    "df_2 = pd.DataFrame()\n",
    "# df_2['q'] = df_1['q']\n",
    "df_2['ps'] = df_new1['ps']\n",
    "df_2['nma.a-nma.f'] = df_new1[df_new1.columns[1:7]].mean(axis=1)\n",
    "df_2['nex.a-nex.d'] = df_new1[df_new1.columns[7:10]].mean(axis=1)\n",
    "df_2['nex.e-nex.h'] = df_new1[df_new1.columns[10:15]].mean(axis=1)\n",
    "df_2['dd'] = df_new1['dd']\n",
    "df_2['dm'] = df_new1['dm']\n",
    "df_2['amfm'] = df_new1['amfm']\n",
    "df_2['golds'] = df_new1['golds']\n",
    "plot_corr(df_2, 10)"
   ]
  },
  {
   "cell_type": "code",
   "execution_count": 35,
   "metadata": {
    "colab": {
     "base_uri": "https://localhost:8080/",
     "height": 282
    },
    "colab_type": "code",
    "id": "CcNLhwUA5iyg",
    "outputId": "2e4aac5b-8926-4da5-8679-373ed7d4c375"
   },
   "outputs": [
    {
     "data": {
      "text/plain": [
       "<matplotlib.axes._subplots.AxesSubplot at 0x2698394c488>"
      ]
     },
     "execution_count": 35,
     "metadata": {},
     "output_type": "execute_result"
    },
    {
     "data": {
      "image/png": "[encoded data removed]",
      "text/plain": [
       "<Figure size 432x288 with 1 Axes>"
      ]
     },
     "metadata": {
      "needs_background": "light"
     },
     "output_type": "display_data"
    }
   ],
   "source": [
    "pd.crosstab(index=df_2['golds'],columns=df_2['nma.a-nma.f']).iloc[0].plot.kde()"
   ]
  },
  {
   "cell_type": "code",
   "execution_count": 36,
   "metadata": {},
   "outputs": [
    {
     "name": "stdout",
     "output_type": "stream",
     "text": [
      "Requirement already satisfied: seaborn in c:\\users\\isada\\workspace\\a\\venv\\lib\\site-packages (0.10.1)\n",
      "Requirement already satisfied: numpy>=1.13.3 in c:\\users\\isada\\workspace\\a\\venv\\lib\\site-packages (from seaborn) (1.18.4)\n",
      "Requirement already satisfied: matplotlib>=2.1.2 in c:\\users\\isada\\workspace\\a\\venv\\lib\\site-packages (from seaborn) (3.2.1)\n",
      "Requirement already satisfied: scipy>=1.0.1 in c:\\users\\isada\\workspace\\a\\venv\\lib\\site-packages (from seaborn) (1.4.1)\n",
      "Requirement already satisfied: pandas>=0.22.0 in c:\\users\\isada\\workspace\\a\\venv\\lib\\site-packages (from seaborn) (1.0.3)\n",
      "Requirement already satisfied: pyparsing!=2.0.4,!=2.1.2,!=2.1.6,>=2.0.1 in c:\\users\\isada\\workspace\\a\\venv\\lib\\site-packages (from matplotlib>=2.1.2->seaborn) (2.4.7)\n",
      "Requirement already satisfied: python-dateutil>=2.1 in c:\\users\\isada\\workspace\\a\\venv\\lib\\site-packages (from matplotlib>=2.1.2->seaborn) (2.8.1)\n",
      "Requirement already satisfied: cycler>=0.10 in c:\\users\\isada\\workspace\\a\\venv\\lib\\site-packages (from matplotlib>=2.1.2->seaborn) (0.10.0)\n",
      "Requirement already satisfied: kiwisolver>=1.0.1 in c:\\users\\isada\\workspace\\a\\venv\\lib\\site-packages (from matplotlib>=2.1.2->seaborn) (1.2.0)\n",
      "Requirement already satisfied: pytz>=2017.2 in c:\\users\\isada\\workspace\\a\\venv\\lib\\site-packages (from pandas>=0.22.0->seaborn) (2020.1)\n",
      "Requirement already satisfied: six>=1.5 in c:\\users\\isada\\workspace\\a\\venv\\lib\\site-packages (from python-dateutil>=2.1->matplotlib>=2.1.2->seaborn) (1.15.0)\n"
     ]
    }
   ],
   "source": [
    "!pip install seaborn"
   ]
  },
  {
   "cell_type": "code",
   "execution_count": 37,
   "metadata": {
    "colab": {
     "base_uri": "https://localhost:8080/",
     "height": 517
    },
    "colab_type": "code",
    "id": "fXcwS2qW651e",
    "outputId": "af2175f7-8807-46d7-ee69-b3d379ee69b4"
   },
   "outputs": [
    {
     "data": {
      "image/png": "[encoded data removed]",
      "text/plain": [
       "<Figure size 576x576 with 1 Axes>"
      ]
     },
     "metadata": {
      "needs_background": "light"
     },
     "output_type": "display_data"
    }
   ],
   "source": [
    "import seaborn as sns\n",
    "\n",
    "f, ax = plt.subplots(figsize=(8, 8))\n",
    "ax = sns.kdeplot(df_2[df_2['golds'] == 0]['nma.a-nma.f'])\n",
    "ax = sns.kdeplot(df_2[df_2['golds'] == 1]['nma.a-nma.f'])"
   ]
  },
  {
   "cell_type": "code",
   "execution_count": 38,
   "metadata": {
    "colab": {
     "base_uri": "https://localhost:8080/",
     "height": 483
    },
    "colab_type": "code",
    "id": "tz1SfFO69C1i",
    "outputId": "d5682526-4c60-446a-c85a-663c88aaebb7"
   },
   "outputs": [
    {
     "data": {
      "image/png": "[encoded data removed]",
      "text/plain": [
       "<Figure size 576x576 with 1 Axes>"
      ]
     },
     "metadata": {
      "needs_background": "light"
     },
     "output_type": "display_data"
    }
   ],
   "source": [
    "f, ax = plt.subplots(figsize=(8, 8))\n",
    "ax = sns.kdeplot(df_2[df_2['golds'] == 0]['nex.a-nex.d'])\n",
    "ax = sns.kdeplot(df_2[df_2['golds'] == 1]['nex.a-nex.d'])"
   ]
  },
  {
   "cell_type": "code",
   "execution_count": 39,
   "metadata": {
    "colab": {
     "base_uri": "https://localhost:8080/",
     "height": 279
    },
    "colab_type": "code",
    "id": "uUQmrtsY98hj",
    "outputId": "f2ecf8f6-8a4a-4258-9d59-c729fa4f5385"
   },
   "outputs": [
    {
     "data": {
      "image/png": "[encoded data removed]",
      "text/plain": [
       "<Figure size 432x288 with 1 Axes>"
      ]
     },
     "metadata": {
      "needs_background": "light"
     },
     "output_type": "display_data"
    }
   ],
   "source": [
    "ax = sns.scatterplot(x='nex.a-nex.d', y='nma.a-nma.f',hue=\"golds\",\n",
    "                     style=\"golds\", data=df_2)"
   ]
  },
  {
   "cell_type": "markdown",
   "metadata": {
    "colab_type": "text",
    "id": "zBSFiON42PLP"
   },
   "source": [
    "**I would say that combining features doesn't imporve performance**"
   ]
  },
  {
   "cell_type": "markdown",
   "metadata": {
    "colab_type": "text",
    "id": "aGlL_tHSlvmU"
   },
   "source": [
    "## Split Train and Test data"
   ]
  },
  {
   "cell_type": "code",
   "execution_count": 40,
   "metadata": {
    "colab": {},
    "colab_type": "code",
    "id": "8KyRG9iEITS6"
   },
   "outputs": [],
   "source": [
    "X = df_new1[[item for item in df_new1.columns if item != 'golds']]\n",
    "y = df_new1['golds']"
   ]
  },
  {
   "cell_type": "code",
   "execution_count": 41,
   "metadata": {
    "colab": {
     "base_uri": "https://localhost:8080/",
     "height": 238
    },
    "colab_type": "code",
    "id": "0cmp35vJIUv9",
    "outputId": "943b9dc6-28af-40f5-c9c0-ed87958e50e2"
   },
   "outputs": [
    {
     "data": {
      "text/plain": [
       "(    ps  nma.a  nma.b  nma.c  nma.d  nma.e  nma.f      nex.a      nex.b  \\\n",
       " 0  1.0   22.0   22.0   22.0   19.0   18.0   14.0  49.895756  17.775994   \n",
       " 1  1.0   24.0   24.0   22.0   18.0   16.0   13.0  57.709936  23.799994   \n",
       " 2  1.0   62.0   60.0   59.0   54.0   47.0   33.0  55.831441  27.993933   \n",
       " 3  1.0   55.0   53.0   53.0   50.0   43.0   31.0  40.467228  18.445954   \n",
       " 4  1.0   44.0   44.0   44.0   41.0   39.0   27.0  18.026254   8.570709   \n",
       " \n",
       "        nex.c     nex.d     nex.e     nex.g     nex.f     nex.h        dd  \\\n",
       " 0   5.270920  0.771761  0.018632  0.006864  0.003923  0.003923  0.486903   \n",
       " 1   3.325423  0.234185  0.003903  0.003903  0.003903  0.003903  0.520908   \n",
       " 2  12.687485  4.852282  1.393889  0.373252  0.041817  0.007744  0.530904   \n",
       " 3   9.118901  3.079428  0.840261  0.272434  0.007653  0.001531  0.483284   \n",
       " 4   0.410381  0.000000  0.000000  0.000000  0.000000  0.000000  0.475935   \n",
       " \n",
       "          dm  amfm  \n",
       " 0  0.100025   1.0  \n",
       " 1  0.144414   0.0  \n",
       " 2  0.128548   0.0  \n",
       " 3  0.114790   0.0  \n",
       " 4  0.123572   0.0  ,\n",
       " 0    0.0\n",
       " 1    0.0\n",
       " 2    1.0\n",
       " 3    0.0\n",
       " 4    1.0\n",
       " Name: golds, dtype: float64)"
      ]
     },
     "execution_count": 41,
     "metadata": {},
     "output_type": "execute_result"
    }
   ],
   "source": [
    "X.head(),y.head()"
   ]
  },
  {
   "cell_type": "code",
   "execution_count": 42,
   "metadata": {
    "colab": {},
    "colab_type": "code",
    "id": "dSbgDiBzAf8w"
   },
   "outputs": [],
   "source": [
    "from sklearn.model_selection import train_test_split\n",
    "X_train, X_test, y_train, y_test = train_test_split(X, y)"
   ]
  },
  {
   "cell_type": "markdown",
   "metadata": {
    "colab_type": "text",
    "id": "rj_pP2EUACFs"
   },
   "source": [
    "## Train Model"
   ]
  },
  {
   "cell_type": "code",
   "execution_count": 43,
   "metadata": {
    "colab": {},
    "colab_type": "code",
    "id": "hNfxx6LJFMy9"
   },
   "outputs": [],
   "source": [
    "from sklearn.metrics import classification_report\n",
    "from sklearn.metrics import f1_score\n",
    "from sklearn.model_selection import cross_val_score"
   ]
  },
  {
   "cell_type": "code",
   "execution_count": 44,
   "metadata": {
    "colab": {},
    "colab_type": "code",
    "id": "e7QR99KLWdWr"
   },
   "outputs": [],
   "source": [
    "ml_mean_list = []"
   ]
  },
  {
   "cell_type": "markdown",
   "metadata": {
    "colab_type": "text",
    "id": "LlIzfbtd_IO0"
   },
   "source": [
    "___\n",
    "### Gaussian Naive Bayes"
   ]
  },
  {
   "cell_type": "code",
   "execution_count": 45,
   "metadata": {
    "colab": {},
    "colab_type": "code",
    "id": "_QfWDDdN8-GL"
   },
   "outputs": [],
   "source": [
    "from sklearn.naive_bayes import GaussianNB"
   ]
  },
  {
   "cell_type": "code",
   "execution_count": 46,
   "metadata": {
    "colab": {
     "base_uri": "https://localhost:8080/",
     "height": 34
    },
    "colab_type": "code",
    "id": "IWn1hSDzAFA_",
    "outputId": "2a828f84-cd05-4244-98b5-6a2c0cdb7806"
   },
   "outputs": [
    {
     "data": {
      "text/plain": [
       "0.5684437513705807"
      ]
     },
     "execution_count": 46,
     "metadata": {},
     "output_type": "execute_result"
    }
   ],
   "source": [
    "gnb = GaussianNB()\n",
    "gnb_scores = cross_val_score(gnb, X, y, cv=4, scoring='f1_micro')\n",
    "gnb_scores.mean()"
   ]
  },
  {
   "cell_type": "code",
   "execution_count": 47,
   "metadata": {
    "colab": {},
    "colab_type": "code",
    "id": "-n38xVgOWfQY"
   },
   "outputs": [],
   "source": [
    "ml_mean_list.append(gnb_scores.mean())"
   ]
  },
  {
   "cell_type": "markdown",
   "metadata": {
    "colab_type": "text",
    "id": "al4l9BfD_XPY"
   },
   "source": [
    "___\n",
    "### Support Vector Machine"
   ]
  },
  {
   "cell_type": "code",
   "execution_count": 48,
   "metadata": {
    "colab": {},
    "colab_type": "code",
    "id": "UC2aiMJa9GZh"
   },
   "outputs": [],
   "source": [
    "from sklearn.svm import SVC"
   ]
  },
  {
   "cell_type": "code",
   "execution_count": 49,
   "metadata": {
    "colab": {
     "base_uri": "https://localhost:8080/",
     "height": 34
    },
    "colab_type": "code",
    "id": "d0bwTE9iaG15",
    "outputId": "ac9052ea-3225-436e-eba9-d3c08c19413e"
   },
   "outputs": [
    {
     "data": {
      "text/plain": [
       "0.6778530328608205"
      ]
     },
     "execution_count": 49,
     "metadata": {},
     "output_type": "execute_result"
    }
   ],
   "source": [
    "svm = SVC(C=4, gamma='scale', kernel='poly', degree=4)\n",
    "svm_scores = cross_val_score(svm, X, y, cv=4, scoring='f1_macro')\n",
    "svm_scores.mean()"
   ]
  },
  {
   "cell_type": "code",
   "execution_count": 50,
   "metadata": {
    "colab": {},
    "colab_type": "code",
    "id": "tzVULTsyWkkq"
   },
   "outputs": [],
   "source": [
    "ml_mean_list.append(svm_scores.mean())"
   ]
  },
  {
   "cell_type": "code",
   "execution_count": 51,
   "metadata": {
    "colab": {
     "base_uri": "https://localhost:8080/",
     "height": 170
    },
    "colab_type": "code",
    "id": "BB8RtWDaHWUC",
    "outputId": "5c981b0b-9706-43ac-a799-72b6bbd05c0d"
   },
   "outputs": [
    {
     "name": "stdout",
     "output_type": "stream",
     "text": [
      "              precision    recall  f1-score   support\n",
      "\n",
      "         0.0       0.62      0.88      0.73       129\n",
      "         1.0       0.85      0.56      0.67       158\n",
      "\n",
      "    accuracy                           0.70       287\n",
      "   macro avg       0.74      0.72      0.70       287\n",
      "weighted avg       0.75      0.70      0.70       287\n",
      "\n"
     ]
    }
   ],
   "source": [
    "svm_ = SVC(C=4, gamma='scale', kernel='poly', degree=4)\n",
    "svm_.fit(X_train,y_train)\n",
    "svm_hat = svm_.predict(X_test)\n",
    "print(classification_report(y_test,svm_hat))"
   ]
  },
  {
   "cell_type": "markdown",
   "metadata": {
    "colab_type": "text",
    "id": "NWM9lem-_bu8"
   },
   "source": [
    "___\n",
    "### Random Forest"
   ]
  },
  {
   "cell_type": "code",
   "execution_count": 52,
   "metadata": {
    "colab": {},
    "colab_type": "code",
    "id": "0UezkReUOvDO"
   },
   "outputs": [],
   "source": [
    "from sklearn.ensemble import RandomForestClassifier"
   ]
  },
  {
   "cell_type": "code",
   "execution_count": 53,
   "metadata": {
    "colab": {
     "base_uri": "https://localhost:8080/",
     "height": 34
    },
    "colab_type": "code",
    "id": "0nFQUrWMOxsE",
    "outputId": "26c58f9a-986e-40a3-f7cf-aed0d17d6562"
   },
   "outputs": [
    {
     "data": {
      "text/plain": [
       "0.664320435661899"
      ]
     },
     "execution_count": 53,
     "metadata": {},
     "output_type": "execute_result"
    }
   ],
   "source": [
    "randf = RandomForestClassifier(n_estimators=200)\n",
    "randf_scores = cross_val_score(randf, X, y, cv=4, scoring='f1_micro')\n",
    "randf_scores.mean()"
   ]
  },
  {
   "cell_type": "code",
   "execution_count": 54,
   "metadata": {
    "colab": {},
    "colab_type": "code",
    "id": "hFJXZxKLWnWK"
   },
   "outputs": [],
   "source": [
    "ml_mean_list.append(randf_scores.mean())"
   ]
  },
  {
   "cell_type": "markdown",
   "metadata": {
    "colab_type": "text",
    "id": "4hLkWf_AKjQX"
   },
   "source": [
    "___\n",
    "### Gradient Boosting Classifier"
   ]
  },
  {
   "cell_type": "code",
   "execution_count": 55,
   "metadata": {
    "colab": {},
    "colab_type": "code",
    "id": "wf1LA58-4fLG"
   },
   "outputs": [],
   "source": [
    "from sklearn.ensemble import GradientBoostingClassifier"
   ]
  },
  {
   "cell_type": "code",
   "execution_count": 56,
   "metadata": {
    "colab": {
     "base_uri": "https://localhost:8080/",
     "height": 34
    },
    "colab_type": "code",
    "id": "z6Sl9shqKivF",
    "outputId": "26ec7ba8-033b-4739-bfc8-e2659b599b27"
   },
   "outputs": [
    {
     "data": {
      "text/plain": [
       "0.6922041373260887"
      ]
     },
     "execution_count": 56,
     "metadata": {},
     "output_type": "execute_result"
    }
   ],
   "source": [
    "gbc = GradientBoostingClassifier()\n",
    "gbc_scores = cross_val_score(gbc, X, y, cv=4, scoring='f1_micro')\n",
    "gbc_scores.mean()"
   ]
  },
  {
   "cell_type": "code",
   "execution_count": 57,
   "metadata": {
    "colab": {},
    "colab_type": "code",
    "id": "T7Vc2sr3WpmD"
   },
   "outputs": [],
   "source": [
    "ml_mean_list.append(gbc_scores.mean())"
   ]
  },
  {
   "cell_type": "markdown",
   "metadata": {
    "colab_type": "text",
    "id": "p9bbE8VkDpiD"
   },
   "source": [
    "___\n",
    "### Decision Tree"
   ]
  },
  {
   "cell_type": "code",
   "execution_count": 58,
   "metadata": {
    "colab": {},
    "colab_type": "code",
    "id": "5WUjvBUWByBA"
   },
   "outputs": [],
   "source": [
    "from sklearn import tree"
   ]
  },
  {
   "cell_type": "code",
   "execution_count": 59,
   "metadata": {
    "colab": {
     "base_uri": "https://localhost:8080/",
     "height": 34
    },
    "colab_type": "code",
    "id": "z7MMfjzMRd61",
    "outputId": "77485fe8-4c42-4f4c-dd92-977dda82cd68"
   },
   "outputs": [
    {
     "data": {
      "text/plain": [
       "0.6398875514729173"
      ]
     },
     "execution_count": 59,
     "metadata": {},
     "output_type": "execute_result"
    }
   ],
   "source": [
    "dt = tree.DecisionTreeClassifier()\n",
    "dt_scores = cross_val_score(dt, X, y, cv=4, scoring='f1_micro')\n",
    "dt_scores.mean()                  "
   ]
  },
  {
   "cell_type": "code",
   "execution_count": 60,
   "metadata": {
    "colab": {},
    "colab_type": "code",
    "id": "2C32Fue9Wrrk"
   },
   "outputs": [],
   "source": [
    "ml_mean_list.append(dt_scores.mean())"
   ]
  },
  {
   "cell_type": "markdown",
   "metadata": {
    "colab_type": "text",
    "id": "aHjUREw3RE59"
   },
   "source": [
    "___\n",
    "### Bernoulli Naive Bayes"
   ]
  },
  {
   "cell_type": "code",
   "execution_count": 61,
   "metadata": {
    "colab": {},
    "colab_type": "code",
    "id": "zT0gqvchRNhC"
   },
   "outputs": [],
   "source": [
    "from sklearn.naive_bayes import BernoulliNB"
   ]
  },
  {
   "cell_type": "code",
   "execution_count": 62,
   "metadata": {
    "colab": {
     "base_uri": "https://localhost:8080/",
     "height": 34
    },
    "colab_type": "code",
    "id": "a1KHjdNiRVFG",
    "outputId": "85ff296a-359c-4abf-d21f-3425c711a957"
   },
   "outputs": [
    {
     "data": {
      "text/plain": [
       "0.5675604882921956"
      ]
     },
     "execution_count": 62,
     "metadata": {},
     "output_type": "execute_result"
    }
   ],
   "source": [
    "bnb = BernoulliNB()\n",
    "bnb_scores = cross_val_score(bnb, X, y, cv=4, scoring='f1_micro')\n",
    "bnb_scores.mean()         "
   ]
  },
  {
   "cell_type": "code",
   "execution_count": 63,
   "metadata": {
    "colab": {},
    "colab_type": "code",
    "id": "F-dHmxTzWuWR"
   },
   "outputs": [],
   "source": [
    "ml_mean_list.append(bnb_scores.mean())"
   ]
  },
  {
   "cell_type": "markdown",
   "metadata": {
    "colab_type": "text",
    "id": "W_8l-VglRfhY"
   },
   "source": [
    "___\n",
    "### Multinomial Naive Bayes"
   ]
  },
  {
   "cell_type": "code",
   "execution_count": 64,
   "metadata": {
    "colab": {},
    "colab_type": "code",
    "id": "2OtOKpIqRfhZ"
   },
   "outputs": [],
   "source": [
    "from sklearn.naive_bayes import MultinomialNB"
   ]
  },
  {
   "cell_type": "code",
   "execution_count": 65,
   "metadata": {
    "colab": {
     "base_uri": "https://localhost:8080/",
     "height": 34
    },
    "colab_type": "code",
    "id": "wt_q2aKSRfha",
    "outputId": "d02fb3f5-d1b0-49f1-eab7-6731f7b96dcd"
   },
   "outputs": [
    {
     "data": {
      "text/plain": [
       "0.574568723958968"
      ]
     },
     "execution_count": 65,
     "metadata": {},
     "output_type": "execute_result"
    }
   ],
   "source": [
    "mnb = MultinomialNB()\n",
    "mnb_scores = cross_val_score(mnb, X, y, cv=4, scoring='f1_micro')\n",
    "mnb_scores.mean()         "
   ]
  },
  {
   "cell_type": "code",
   "execution_count": 66,
   "metadata": {
    "colab": {},
    "colab_type": "code",
    "id": "gxir6BhyWw1r"
   },
   "outputs": [],
   "source": [
    "ml_mean_list.append(mnb_scores.mean())"
   ]
  },
  {
   "cell_type": "markdown",
   "metadata": {
    "colab_type": "text",
    "id": "OqEmVuyUR1nU"
   },
   "source": [
    "___\n",
    "### Complement Naive Bayes"
   ]
  },
  {
   "cell_type": "code",
   "execution_count": 67,
   "metadata": {
    "colab": {},
    "colab_type": "code",
    "id": "NKj8YimRR1nV"
   },
   "outputs": [],
   "source": [
    "from sklearn.naive_bayes import ComplementNB"
   ]
  },
  {
   "cell_type": "code",
   "execution_count": 68,
   "metadata": {
    "colab": {
     "base_uri": "https://localhost:8080/",
     "height": 34
    },
    "colab_type": "code",
    "id": "qLPIPlSfR1nY",
    "outputId": "060fb8e6-190d-46dc-cce6-dc0381fb6a1c"
   },
   "outputs": [
    {
     "data": {
      "text/plain": [
       "0.5763108842377135"
      ]
     },
     "execution_count": 68,
     "metadata": {},
     "output_type": "execute_result"
    }
   ],
   "source": [
    "cnb = ComplementNB()\n",
    "cnb_scores = cross_val_score(cnb, X, y, cv=4, scoring='f1_micro')\n",
    "cnb_scores.mean()         "
   ]
  },
  {
   "cell_type": "code",
   "execution_count": 69,
   "metadata": {
    "colab": {},
    "colab_type": "code",
    "id": "ic3T_ZCoWz-K"
   },
   "outputs": [],
   "source": [
    "ml_mean_list.append(cnb_scores.mean())"
   ]
  },
  {
   "cell_type": "markdown",
   "metadata": {
    "colab_type": "text",
    "id": "whin4AgOAxXl"
   },
   "source": [
    "___\n",
    "### Multilayer perceptron"
   ]
  },
  {
   "cell_type": "code",
   "execution_count": 70,
   "metadata": {
    "colab": {},
    "colab_type": "code",
    "id": "nNJiHXBDNm6G"
   },
   "outputs": [],
   "source": [
    "from sklearn.neural_network import MLPClassifier"
   ]
  },
  {
   "cell_type": "code",
   "execution_count": 71,
   "metadata": {
    "colab": {
     "base_uri": "https://localhost:8080/",
     "height": 170
    },
    "colab_type": "code",
    "id": "l2lTvplBPNiR",
    "outputId": "0ecfabbe-2527-4b47-d943-7bfda382d61e"
   },
   "outputs": [
    {
     "name": "stdout",
     "output_type": "stream",
     "text": [
      "              precision    recall  f1-score   support\n",
      "\n",
      "         0.0       0.73      0.76      0.75       129\n",
      "         1.0       0.80      0.77      0.78       158\n",
      "\n",
      "    accuracy                           0.77       287\n",
      "   macro avg       0.76      0.77      0.76       287\n",
      "weighted avg       0.77      0.77      0.77       287\n",
      "\n"
     ]
    }
   ],
   "source": [
    "mlp = MLPClassifier(activation='tanh',max_iter=1000)\n",
    "mlp.fit(X_train,y_train)\n",
    "y_hat_mlp = mlp.predict(X_test)\n",
    "print(classification_report(y_test,y_hat_mlp))"
   ]
  },
  {
   "cell_type": "code",
   "execution_count": 72,
   "metadata": {
    "colab": {
     "base_uri": "https://localhost:8080/",
     "height": 34
    },
    "colab_type": "code",
    "id": "to2iOznsPmJy",
    "outputId": "21a80662-3f0d-4005-be00-8f72ae730417"
   },
   "outputs": [
    {
     "data": {
      "text/plain": [
       "0.7576326112911477"
      ]
     },
     "execution_count": 72,
     "metadata": {},
     "output_type": "execute_result"
    }
   ],
   "source": [
    "mlp_ = MLPClassifier(activation='tanh', max_iter=500)\n",
    "mlp_scores = cross_val_score(mlp_, X, y, cv=4, scoring='f1_micro')\n",
    "mlp_scores.mean()"
   ]
  },
  {
   "cell_type": "code",
   "execution_count": 73,
   "metadata": {
    "colab": {},
    "colab_type": "code",
    "id": "gM0HWfZkW37h"
   },
   "outputs": [],
   "source": [
    "ml_mean_list.append(mlp_scores.mean())"
   ]
  },
  {
   "cell_type": "markdown",
   "metadata": {
    "colab_type": "text",
    "id": "-6doMW5gFCAf"
   },
   "source": [
    "___\n",
    "### Ada Boost Classifier"
   ]
  },
  {
   "cell_type": "code",
   "execution_count": 74,
   "metadata": {
    "colab": {},
    "colab_type": "code",
    "id": "yyFdEyweFBjQ"
   },
   "outputs": [],
   "source": [
    "from sklearn.ensemble import AdaBoostClassifier"
   ]
  },
  {
   "cell_type": "code",
   "execution_count": 75,
   "metadata": {
    "colab": {
     "base_uri": "https://localhost:8080/",
     "height": 170
    },
    "colab_type": "code",
    "id": "t5VQ9r_pFKCl",
    "outputId": "2c9b0cbd-ca91-4289-c7fb-1de15da1a55f"
   },
   "outputs": [
    {
     "name": "stdout",
     "output_type": "stream",
     "text": [
      "              precision    recall  f1-score   support\n",
      "\n",
      "         0.0       0.65      0.71      0.68       129\n",
      "         1.0       0.74      0.70      0.72       158\n",
      "\n",
      "    accuracy                           0.70       287\n",
      "   macro avg       0.70      0.70      0.70       287\n",
      "weighted avg       0.70      0.70      0.70       287\n",
      "\n"
     ]
    }
   ],
   "source": [
    "ada = AdaBoostClassifier()\n",
    "ada.fit(X_train, y_train)\n",
    "ada_hat = ada.predict(X_test)\n",
    "print(classification_report(y_test, ada_hat))"
   ]
  },
  {
   "cell_type": "code",
   "execution_count": 76,
   "metadata": {
    "colab": {
     "base_uri": "https://localhost:8080/",
     "height": 34
    },
    "colab_type": "code",
    "id": "V4CrMatxFhse",
    "outputId": "ba8aa506-67b6-44bf-f61c-d57be4f39bbd"
   },
   "outputs": [
    {
     "data": {
      "text/plain": [
       "0.6756231573304744"
      ]
     },
     "execution_count": 76,
     "metadata": {},
     "output_type": "execute_result"
    }
   ],
   "source": [
    "ada_ = AdaBoostClassifier()\n",
    "ada_scores = cross_val_score(ada_, X, y, cv=4, scoring='f1_micro')\n",
    "ada_scores.mean()"
   ]
  },
  {
   "cell_type": "code",
   "execution_count": 77,
   "metadata": {
    "colab": {},
    "colab_type": "code",
    "id": "KOr59P7EW7Wv"
   },
   "outputs": [],
   "source": [
    "ml_mean_list.append(ada_scores.mean())"
   ]
  },
  {
   "cell_type": "markdown",
   "metadata": {
    "colab_type": "text",
    "id": "Ne5DU-vzF2cV"
   },
   "source": [
    "___\n",
    "### Bagging"
   ]
  },
  {
   "cell_type": "code",
   "execution_count": 78,
   "metadata": {
    "colab": {},
    "colab_type": "code",
    "id": "7PHtsZaNF6vl"
   },
   "outputs": [],
   "source": [
    "from sklearn.ensemble import BaggingClassifier"
   ]
  },
  {
   "cell_type": "code",
   "execution_count": 79,
   "metadata": {
    "colab": {
     "base_uri": "https://localhost:8080/",
     "height": 170
    },
    "colab_type": "code",
    "id": "EOrdG1JBF18W",
    "outputId": "fda76af6-dbac-4c2a-a192-b2bfeb44271e"
   },
   "outputs": [
    {
     "name": "stdout",
     "output_type": "stream",
     "text": [
      "              precision    recall  f1-score   support\n",
      "\n",
      "         0.0       0.61      0.72      0.66       129\n",
      "         1.0       0.73      0.63      0.68       158\n",
      "\n",
      "    accuracy                           0.67       287\n",
      "   macro avg       0.67      0.67      0.67       287\n",
      "weighted avg       0.68      0.67      0.67       287\n",
      "\n"
     ]
    }
   ],
   "source": [
    "bag = BaggingClassifier()\n",
    "bag.fit(X_train, y_train)\n",
    "bag_hat = bag.predict(X_test)\n",
    "print(classification_report(y_test, bag_hat))"
   ]
  },
  {
   "cell_type": "code",
   "execution_count": 80,
   "metadata": {
    "colab": {
     "base_uri": "https://localhost:8080/",
     "height": 34
    },
    "colab_type": "code",
    "id": "hyswmlTfGGjG",
    "outputId": "2c23733c-6da5-40b9-a050-b92d7b173c50"
   },
   "outputs": [
    {
     "data": {
      "text/plain": [
       "0.6608178406958894"
      ]
     },
     "execution_count": 80,
     "metadata": {},
     "output_type": "execute_result"
    }
   ],
   "source": [
    "bag_ = BaggingClassifier()\n",
    "bag_scores = cross_val_score(bag_, X, y, cv=4, scoring='f1_micro')\n",
    "bag_scores.mean()"
   ]
  },
  {
   "cell_type": "code",
   "execution_count": 81,
   "metadata": {
    "colab": {},
    "colab_type": "code",
    "id": "XnwsW3aUW9v8"
   },
   "outputs": [],
   "source": [
    "ml_mean_list.append(bag_scores.mean())"
   ]
  },
  {
   "cell_type": "markdown",
   "metadata": {
    "colab_type": "text",
    "id": "aCx1ICFqGUpl"
   },
   "source": [
    "___\n",
    "### Extra Trees"
   ]
  },
  {
   "cell_type": "code",
   "execution_count": 82,
   "metadata": {
    "colab": {},
    "colab_type": "code",
    "id": "1g5yJK_zGQEw"
   },
   "outputs": [],
   "source": [
    "from sklearn.ensemble import ExtraTreesClassifier"
   ]
  },
  {
   "cell_type": "code",
   "execution_count": 83,
   "metadata": {
    "colab": {
     "base_uri": "https://localhost:8080/",
     "height": 170
    },
    "colab_type": "code",
    "id": "wgr-eKPbGhSO",
    "outputId": "230ce98b-161b-4832-db49-7bf8abbbd201"
   },
   "outputs": [
    {
     "name": "stdout",
     "output_type": "stream",
     "text": [
      "              precision    recall  f1-score   support\n",
      "\n",
      "         0.0       0.66      0.67      0.66       129\n",
      "         1.0       0.73      0.72      0.72       158\n",
      "\n",
      "    accuracy                           0.70       287\n",
      "   macro avg       0.69      0.69      0.69       287\n",
      "weighted avg       0.70      0.70      0.70       287\n",
      "\n"
     ]
    }
   ],
   "source": [
    "xtree = ExtraTreesClassifier(n_estimators=100)\n",
    "xtree.fit(X_train, y_train)\n",
    "xtree_hat = xtree.predict(X_test)\n",
    "print(classification_report(y_test, xtree_hat))"
   ]
  },
  {
   "cell_type": "code",
   "execution_count": 84,
   "metadata": {
    "colab": {
     "base_uri": "https://localhost:8080/",
     "height": 34
    },
    "colab_type": "code",
    "id": "OJ9ISJ0pG9SX",
    "outputId": "41583caf-0a45-48a2-edcf-8b267acebbaa"
   },
   "outputs": [
    {
     "data": {
      "text/plain": [
       "0.6800211983138813"
      ]
     },
     "execution_count": 84,
     "metadata": {},
     "output_type": "execute_result"
    }
   ],
   "source": [
    "xtree_ = ExtraTreesClassifier(n_estimators=100)\n",
    "xtree_scores = cross_val_score(xtree_, X, y, cv=4, scoring='f1_micro')\n",
    "xtree_scores.mean()"
   ]
  },
  {
   "cell_type": "code",
   "execution_count": 85,
   "metadata": {
    "colab": {},
    "colab_type": "code",
    "id": "PhW9mT2ZXBVk"
   },
   "outputs": [],
   "source": [
    "ml_mean_list.append(xtree_scores.mean())"
   ]
  },
  {
   "cell_type": "markdown",
   "metadata": {
    "colab_type": "text",
    "id": "VsyAAtGySTtt"
   },
   "source": [
    "___\n",
    "### Finding Out The Best Machine Learning"
   ]
  },
  {
   "cell_type": "code",
   "execution_count": 86,
   "metadata": {
    "colab": {},
    "colab_type": "code",
    "id": "CqMTpPBUSS2a"
   },
   "outputs": [],
   "source": [
    "ml_names = ['gnb', 'svm', 'randf', 'gbc', 'dt', 'bnb',\n",
    "           'mnb', 'cnb', 'mlp', 'ada', 'bag', 'xtree']"
   ]
  },
  {
   "cell_type": "code",
   "execution_count": 87,
   "metadata": {
    "colab": {},
    "colab_type": "code",
    "id": "ofDZUEL6SkHb"
   },
   "outputs": [],
   "source": [
    "ml_best = []\n",
    "for i in range(len(ml_names)):\n",
    "    arr = {}\n",
    "    arr['ml_name'] = ml_names[i]\n",
    "    arr['mean'] = ml_mean_list[i]\n",
    "    ml_best.append(arr)"
   ]
  },
  {
   "cell_type": "code",
   "execution_count": 88,
   "metadata": {
    "colab": {
     "base_uri": "https://localhost:8080/",
     "height": 282
    },
    "colab_type": "code",
    "id": "KXcKKXdbXzMR",
    "outputId": "5de8df68-c789-44cb-9f6c-bdac12b14cd7"
   },
   "outputs": [
    {
     "data": {
      "text/plain": [
       "<matplotlib.axes._subplots.AxesSubplot at 0x2698401a5c8>"
      ]
     },
     "execution_count": 88,
     "metadata": {},
     "output_type": "execute_result"
    },
    {
     "data": {
      "image/png": "[encoded data removed]",
      "text/plain": [
       "<Figure size 432x288 with 1 Axes>"
      ]
     },
     "metadata": {
      "needs_background": "light"
     },
     "output_type": "display_data"
    }
   ],
   "source": [
    "ml_best_df = pd.DataFrame(ml_best)\n",
    "ml_best_df.plot(kind='barh',x='ml_name',y='mean')"
   ]
  },
  {
   "cell_type": "markdown",
   "metadata": {
    "colab_type": "text",
    "id": "ZL8Ohzq1_On8"
   },
   "source": [
    "___\n",
    "## Feature Extraction\n"
   ]
  },
  {
   "cell_type": "markdown",
   "metadata": {
    "colab_type": "text",
    "id": "G_92KEJ1S-F4"
   },
   "source": [
    "### Feature Extraction From Random Forest"
   ]
  },
  {
   "cell_type": "code",
   "execution_count": 89,
   "metadata": {
    "colab": {},
    "colab_type": "code",
    "id": "tzfji9TwHhOF"
   },
   "outputs": [],
   "source": [
    "from sklearn.model_selection import KFold\n",
    "\n",
    "kf = KFold(n_splits=4)\n",
    "rand_f1_list = []\n",
    "rand_impt_list = []\n",
    "\n",
    "for train_index, test_index in kf.split(X):\n",
    "    X_train, X_test = X.iloc[train_index], X.iloc[test_index]\n",
    "    y_train, y_test = y.iloc[train_index], y.iloc[test_index]\n",
    "    randf_ = RandomForestClassifier(n_estimators=200)\n",
    "    randf_.fit(X_train,y_train)\n",
    "    y_pred = randf_.predict(X_test)\n",
    "    f1 = f1_score(y_test, y_pred, average='micro')\n",
    "    rand_f1_list.append(f1)\n",
    "    impt = randf_.feature_importances_\n",
    "    rand_impt_list.append(impt)"
   ]
  },
  {
   "cell_type": "code",
   "execution_count": 90,
   "metadata": {
    "colab": {
     "base_uri": "https://localhost:8080/",
     "height": 279
    },
    "colab_type": "code",
    "id": "wQ8Oy4H_NdJF",
    "outputId": "b1e2a340-b30d-4afb-903f-173b47886283"
   },
   "outputs": [
    {
     "data": {
      "text/plain": [
       "<matplotlib.axes._subplots.AxesSubplot at 0x269850a30c8>"
      ]
     },
     "execution_count": 90,
     "metadata": {},
     "output_type": "execute_result"
    },
    {
     "data": {
      "image/png": "[encoded data removed]",
      "text/plain": [
       "<Figure size 432x288 with 1 Axes>"
      ]
     },
     "metadata": {
      "needs_background": "light"
     },
     "output_type": "display_data"
    }
   ],
   "source": [
    "pd.Series(rand_f1_list).plot(kind='bar')"
   ]
  },
  {
   "cell_type": "code",
   "execution_count": 91,
   "metadata": {
    "colab": {
     "base_uri": "https://localhost:8080/",
     "height": 323
    },
    "colab_type": "code",
    "id": "Gt-mV2NQOWoL",
    "outputId": "ff259007-a1cb-47d3-e0ff-a0fe4494b98e"
   },
   "outputs": [
    {
     "data": {
      "text/plain": [
       "[{'index': 'nex.a', 'feature_importances_mean': 0.08843513458163771},\n",
       " {'index': 'nma.a', 'feature_importances_mean': 0.08746172496465465},\n",
       " {'index': 'nex.b', 'feature_importances_mean': 0.07100034460866408},\n",
       " {'index': 'dd', 'feature_importances_mean': 0.0681868978552432},\n",
       " {'index': 'dm', 'feature_importances_mean': 0.0676383663267614},\n",
       " {'index': 'nex.c', 'feature_importances_mean': 0.06759929138205488},\n",
       " {'index': 'nma.b', 'feature_importances_mean': 0.06392761240895149},\n",
       " {'index': 'nex.d', 'feature_importances_mean': 0.06389630614423125},\n",
       " {'index': 'nex.f', 'feature_importances_mean': 0.05711156233314627},\n",
       " {'index': 'nma.c', 'feature_importances_mean': 0.05647824470790232},\n",
       " {'index': 'nma.f', 'feature_importances_mean': 0.05550494222939748},\n",
       " {'index': 'nma.e', 'feature_importances_mean': 0.05465491280828952},\n",
       " {'index': 'nma.d', 'feature_importances_mean': 0.0515100089176008},\n",
       " {'index': 'nex.e', 'feature_importances_mean': 0.0462855027311721},\n",
       " {'index': 'nex.h', 'feature_importances_mean': 0.04172164458715163},\n",
       " {'index': 'nex.g', 'feature_importances_mean': 0.041268405511311404},\n",
       " {'index': 'ps', 'feature_importances_mean': 0.008669957609010273},\n",
       " {'index': 'amfm', 'feature_importances_mean': 0.00864914029281956}]"
      ]
     },
     "execution_count": 91,
     "metadata": {},
     "output_type": "execute_result"
    }
   ],
   "source": [
    "def getKey(elem):\n",
    "    return elem['feature_importances_mean']\n",
    "\n",
    "my_dataframe = pd.DataFrame(rand_impt_list)\n",
    "my_list = []\n",
    "\n",
    "for i in range(len(X.columns)):\n",
    "    arr = {}\n",
    "    arr['index'] = X.columns[i]\n",
    "    arr['feature_importances_mean'] = my_dataframe[i].mean()\n",
    "    my_list.append(arr)\n",
    "    \n",
    "randf_sorted_my_list = sorted(my_list, key=getKey, reverse=True)\n",
    "randf_sorted_my_list"
   ]
  },
  {
   "cell_type": "code",
   "execution_count": 92,
   "metadata": {
    "colab": {},
    "colab_type": "code",
    "id": "puk_WLm477US"
   },
   "outputs": [],
   "source": [
    "#randf\n",
    "sig_col = []\n",
    "for i in range(len(randf_sorted_my_list)):\n",
    "    sig_col.append(randf_sorted_my_list[i]['index'])\n",
    "size = len(sig_col)"
   ]
  },
  {
   "cell_type": "code",
   "execution_count": 93,
   "metadata": {
    "colab": {},
    "colab_type": "code",
    "id": "jrpNy9EEQGWp"
   },
   "outputs": [],
   "source": [
    "sig =[]\n",
    "for i in range(1,size+1,1):\n",
    "    X_sig = X[sig_col[:i]]\n",
    "    mlp_sig = MLPClassifier(activation='tanh', max_iter=500, solver='adam')\n",
    "    mlp_scores = cross_val_score(mlp_sig, X_sig, y, cv=4, scoring='f1_micro')\n",
    "    sig.append(mlp_scores.mean())"
   ]
  },
  {
   "cell_type": "code",
   "execution_count": 94,
   "metadata": {
    "colab": {
     "base_uri": "https://localhost:8080/",
     "height": 282
    },
    "colab_type": "code",
    "id": "kYWoOZbm-3eI",
    "outputId": "09cce758-4704-44ed-957e-2f2a037ced91"
   },
   "outputs": [
    {
     "data": {
      "text/plain": [
       "<matplotlib.axes._subplots.AxesSubplot at 0x2698513a288>"
      ]
     },
     "execution_count": 94,
     "metadata": {},
     "output_type": "execute_result"
    },
    {
     "data": {
      "image/png": "[encoded data removed]",
      "text/plain": [
       "<Figure size 432x288 with 1 Axes>"
      ]
     },
     "metadata": {
      "needs_background": "light"
     },
     "output_type": "display_data"
    }
   ],
   "source": [
    "pd.Series(sig).plot()"
   ]
  },
  {
   "cell_type": "code",
   "execution_count": 182,
   "metadata": {
    "colab": {
     "base_uri": "https://localhost:8080/",
     "height": 323
    },
    "colab_type": "code",
    "id": "Mgx2bA3CBVLX",
    "outputId": "5ddfef5a-ffac-46ab-af1d-8c459c0f4a1c"
   },
   "outputs": [
    {
     "name": "stdout",
     "output_type": "stream",
     "text": [
      "0: 0.5841018737360202\n",
      "1: 0.6451383981871787\n",
      "2: 0.6469140615482079\n",
      "3: 0.6530055310543116\n",
      "4: 0.6512603250408129\n",
      "5: 0.6477699130138155\n",
      "6: 0.7262432689261957\n",
      "7: 0.7410424940912745\n",
      "8: 0.7419379401086719\n",
      "9: 0.7480385468190346\n",
      "10: 0.7576326112911479\n",
      "11: 0.7471522380058966\n",
      "12: 0.7593504056918691\n",
      "13: 0.7558752223386369\n",
      "14: 0.7515259131112789\n",
      "15: 0.7436892375916766\n",
      "16: 0.7620062863965303 <-- max value\n",
      "17: 0.7532741648595307\n"
     ]
    }
   ],
   "source": [
    "for i in range(len(sig)):\n",
    "    if sig[i] == max(sig):\n",
    "        pointer = \" <-- max value\"\n",
    "    else:\n",
    "        pointer = \"\"\n",
    "    print(str(i) + ': ' + str(sig[i]) + pointer)"
   ]
  },
  {
   "cell_type": "code",
   "execution_count": 96,
   "metadata": {
    "colab": {
     "base_uri": "https://localhost:8080/",
     "height": 187
    },
    "colab_type": "code",
    "id": "7gJiwm93tuSz",
    "outputId": "763556c0-1a99-4584-ac33-982b4cea1ecc"
   },
   "outputs": [
    {
     "data": {
      "text/plain": [
       "['nex.a',\n",
       " 'nma.a',\n",
       " 'nex.b',\n",
       " 'dd',\n",
       " 'dm',\n",
       " 'nex.c',\n",
       " 'nma.b',\n",
       " 'nex.d',\n",
       " 'nex.f',\n",
       " 'nma.c']"
      ]
     },
     "execution_count": 96,
     "metadata": {},
     "output_type": "execute_result"
    }
   ],
   "source": [
    "len(sig_col[:10])\n",
    "sig_col[:10]"
   ]
  },
  {
   "cell_type": "code",
   "execution_count": 97,
   "metadata": {
    "colab": {
     "base_uri": "https://localhost:8080/",
     "height": 34
    },
    "colab_type": "code",
    "id": "R8s5UiBouJ73",
    "outputId": "86320b06-75dd-4523-f09c-2382a06592c8"
   },
   "outputs": [
    {
     "name": "stdout",
     "output_type": "stream",
     "text": [
      "0.7480385468190347\n"
     ]
    }
   ],
   "source": [
    "X_sig = X[sig_col]\n",
    "mlp_sig = MLPClassifier(activation='tanh', max_iter=500, solver='adam')\n",
    "mlp_scores = cross_val_score(mlp_sig, X_sig, y, cv=4, scoring='f1_micro')\n",
    "print(mlp_scores.mean())"
   ]
  },
  {
   "cell_type": "markdown",
   "metadata": {
    "colab_type": "text",
    "id": "Qktunbpm_MXz"
   },
   "source": [
    "___\n",
    "### Feature Extraction From Gradient Boosting Classifier"
   ]
  },
  {
   "cell_type": "code",
   "execution_count": 98,
   "metadata": {
    "colab": {},
    "colab_type": "code",
    "id": "WXlUL8MhK-VV"
   },
   "outputs": [],
   "source": [
    "from sklearn.model_selection import KFold\n",
    "kf = KFold(n_splits=4)\n",
    "\n",
    "gbc_f1_list = []\n",
    "gbc_impt_list = []\n",
    "\n",
    "for train_index, test_index in kf.split(X):\n",
    "    X_train, X_test = X.iloc[train_index], X.iloc[test_index]\n",
    "    y_train, y_test = y.iloc[train_index], y.iloc[test_index]\n",
    "    gbc_ = GradientBoostingClassifier()\n",
    "    gbc_.fit(X_train,y_train)\n",
    "    y_pred = gbc_.predict(X_test)\n",
    "    f1 = f1_score(y_test, y_pred, average='micro')\n",
    "    gbc_f1_list.append(f1)\n",
    "    impt = gbc_.feature_importances_\n",
    "    gbc_impt_list.append(impt)"
   ]
  },
  {
   "cell_type": "code",
   "execution_count": 99,
   "metadata": {
    "colab": {
     "base_uri": "https://localhost:8080/",
     "height": 283
    },
    "colab_type": "code",
    "id": "9ZigxzejK4vX",
    "outputId": "b279a019-2ab0-45b7-ebf7-94156931d5fd"
   },
   "outputs": [
    {
     "data": {
      "text/plain": [
       "<matplotlib.axes._subplots.AxesSubplot at 0x2698518da08>"
      ]
     },
     "execution_count": 99,
     "metadata": {},
     "output_type": "execute_result"
    },
    {
     "data": {
      "image/png": "[encoded data removed]",
      "text/plain": [
       "<Figure size 432x288 with 1 Axes>"
      ]
     },
     "metadata": {
      "needs_background": "light"
     },
     "output_type": "display_data"
    }
   ],
   "source": [
    "pd.Series(gbc_f1_list).plot()"
   ]
  },
  {
   "cell_type": "code",
   "execution_count": 100,
   "metadata": {
    "colab": {
     "base_uri": "https://localhost:8080/",
     "height": 323
    },
    "colab_type": "code",
    "id": "FCIJ2Hxz13d-",
    "outputId": "8cfd852f-9642-4c52-b26c-556d3bab5dc1"
   },
   "outputs": [
    {
     "data": {
      "text/plain": [
       "[{'index': 'nma.a', 'feature_importances_mean': 0.2160449170318218},\n",
       " {'index': 'nex.f', 'feature_importances_mean': 0.1492369317804715},\n",
       " {'index': 'nex.a', 'feature_importances_mean': 0.10324554982157048},\n",
       " {'index': 'dd', 'feature_importances_mean': 0.0717970037511176},\n",
       " {'index': 'nex.b', 'feature_importances_mean': 0.06623530689811752},\n",
       " {'index': 'nex.c', 'feature_importances_mean': 0.053928666747470294},\n",
       " {'index': 'nex.d', 'feature_importances_mean': 0.05347597264027677},\n",
       " {'index': 'dm', 'feature_importances_mean': 0.052691179833414876},\n",
       " {'index': 'nma.f', 'feature_importances_mean': 0.05254775265719395},\n",
       " {'index': 'nma.d', 'feature_importances_mean': 0.03871226793990709},\n",
       " {'index': 'nma.e', 'feature_importances_mean': 0.035397794893659296},\n",
       " {'index': 'nex.e', 'feature_importances_mean': 0.02172970397348198},\n",
       " {'index': 'nma.c', 'feature_importances_mean': 0.021298107028666684},\n",
       " {'index': 'nma.b', 'feature_importances_mean': 0.01804772991743647},\n",
       " {'index': 'nex.g', 'feature_importances_mean': 0.015037530333641191},\n",
       " {'index': 'nex.h', 'feature_importances_mean': 0.014021924087130301},\n",
       " {'index': 'ps', 'feature_importances_mean': 0.012490263428315499},\n",
       " {'index': 'amfm', 'feature_importances_mean': 0.004061397236306658}]"
      ]
     },
     "execution_count": 100,
     "metadata": {},
     "output_type": "execute_result"
    }
   ],
   "source": [
    "def getKey(elem):\n",
    "    return elem['feature_importances_mean']\n",
    "\n",
    "my_dataframe = pd.DataFrame(gbc_impt_list)\n",
    "my_list = []\n",
    "\n",
    "for i in range(len(X.columns)):\n",
    "    arr = {}\n",
    "    arr['index'] = X.columns[i]\n",
    "    arr['feature_importances_mean'] = my_dataframe[i].mean()\n",
    "    my_list.append(arr)\n",
    "    \n",
    "gbc_sorted_my_list = sorted(my_list, key=getKey, reverse=True)\n",
    "gbc_sorted_my_list"
   ]
  },
  {
   "cell_type": "code",
   "execution_count": 101,
   "metadata": {
    "colab": {},
    "colab_type": "code",
    "id": "PXIdTS6ndDYu"
   },
   "outputs": [],
   "source": [
    "#gbc\n",
    "sig_col1 = []\n",
    "for i in range(len(gbc_sorted_my_list)):\n",
    "    sig_col1.append(gbc_sorted_my_list[i]['index'])\n",
    "size = len(sig_col1)"
   ]
  },
  {
   "cell_type": "code",
   "execution_count": 102,
   "metadata": {
    "colab": {},
    "colab_type": "code",
    "id": "8lfzImLl-FEI"
   },
   "outputs": [
    {
     "name": "stderr",
     "output_type": "stream",
     "text": [
      "c:\\users\\isada\\workspace\\a\\venv\\lib\\site-packages\\sklearn\\neural_network\\_multilayer_perceptron.py:585: ConvergenceWarning: Stochastic Optimizer: Maximum iterations (500) reached and the optimization hasn't converged yet.\n",
      "  % self.max_iter, ConvergenceWarning)\n"
     ]
    }
   ],
   "source": [
    "sig1 =[]\n",
    "for i in range(1,size+1,1):\n",
    "    X_sig = X[sig_col1[:i]]\n",
    "    mlp_sig = MLPClassifier(activation='tanh', max_iter=500, solver='adam')\n",
    "    mlp_scores = cross_val_score(mlp_sig, X_sig, y, cv=4, scoring='f1_micro')\n",
    "    sig1.append(mlp_scores.mean())"
   ]
  },
  {
   "cell_type": "code",
   "execution_count": 103,
   "metadata": {
    "colab": {},
    "colab_type": "code",
    "id": "ewU3izp4-Mw4"
   },
   "outputs": [
    {
     "data": {
      "text/plain": [
       "<matplotlib.axes._subplots.AxesSubplot at 0x26985261608>"
      ]
     },
     "execution_count": 103,
     "metadata": {},
     "output_type": "execute_result"
    },
    {
     "data": {
      "image/png": "[encoded data removed]",
      "text/plain": [
       "<Figure size 432x288 with 1 Axes>"
      ]
     },
     "metadata": {
      "needs_background": "light"
     },
     "output_type": "display_data"
    }
   ],
   "source": [
    "pd.Series(sig1).plot()"
   ]
  },
  {
   "cell_type": "code",
   "execution_count": 180,
   "metadata": {
    "colab": {},
    "colab_type": "code",
    "id": "Kbi4IObV-O_-"
   },
   "outputs": [
    {
     "name": "stdout",
     "output_type": "stream",
     "text": [
      "0: 0.6024615628274165\n",
      "1: 0.6181410053361273\n",
      "2: 0.6695530079676422\n",
      "3: 0.6756444774737458\n",
      "4: 0.6721875685290319\n",
      "5: 0.6826374844667528\n",
      "6: 0.6835055188713726\n",
      "7: 0.6808861869837479\n",
      "8: 0.6966143612485076\n",
      "9: 0.7419409858434249\n",
      "10: 0.7497898443020394\n",
      "11: 0.7410577227650399\n",
      "12: 0.7497898443020394\n",
      "13: 0.7358312419288029\n",
      "14: 0.7445664092005555\n",
      "15: 0.7584884627567554\n",
      "16: 0.7602488974440194 <-- max value\n",
      "17: 0.7506396042981409\n"
     ]
    }
   ],
   "source": [
    "for i in range(len(sig1)):\n",
    "    if sig1[i] == max(sig1):\n",
    "        pointer = \" <-- max value\"\n",
    "    else:\n",
    "        pointer = \"\"\n",
    "    print(str(i) + ': ' + str(sig1[i]) + pointer)"
   ]
  },
  {
   "cell_type": "code",
   "execution_count": 184,
   "metadata": {},
   "outputs": [
    {
     "name": "stdout",
     "output_type": "stream",
     "text": [
      "0.7497898443020394\n"
     ]
    }
   ],
   "source": [
    "print(sig1[10])\n",
    "feature_impt = sig_col1[0:11]"
   ]
  },
  {
   "cell_type": "markdown",
   "metadata": {
    "colab_type": "text",
    "id": "LJ4Ubd-hxZBj"
   },
   "source": [
    "\n",
    "### Brute-force Feature Extraction"
   ]
  },
  {
   "cell_type": "code",
   "execution_count": 105,
   "metadata": {
    "colab": {},
    "colab_type": "code",
    "id": "nP4yxny9ADte"
   },
   "outputs": [],
   "source": [
    "import numpy as np\n",
    "from itertools import combinations\n",
    "import random"
   ]
  },
  {
   "cell_type": "code",
   "execution_count": 106,
   "metadata": {
    "colab": {},
    "colab_type": "code",
    "id": "nkvP9p8hxwTk"
   },
   "outputs": [],
   "source": [
    "def find_intersect(list1, list2):\n",
    "    return set(list1) - set(list2)"
   ]
  },
  {
   "cell_type": "code",
   "execution_count": 107,
   "metadata": {
    "colab": {},
    "colab_type": "code",
    "id": "XpCqbDax99sI"
   },
   "outputs": [],
   "source": [
    "def rSubset(list_, r): \n",
    "    return list(combinations(list_, r)) "
   ]
  },
  {
   "cell_type": "code",
   "execution_count": 108,
   "metadata": {
    "colab": {},
    "colab_type": "code",
    "id": "XeSBKiu8-A0l"
   },
   "outputs": [],
   "source": [
    "F0 = F1 = F2 = F3 = F4 = F5 = F6 = F7 = F8 = F9 = F10 = F11 = F12 = [] \n",
    "F13 = F14 = F15 = F16 = F17 = []\n",
    "\n",
    "F = [F0, F1, F2, F3, F4, F5, F6, F7, F8, F9,\n",
    "     F10, F11, F12, F13, F14, F15, F16, F17]"
   ]
  },
  {
   "cell_type": "code",
   "execution_count": 109,
   "metadata": {
    "colab": {},
    "colab_type": "code",
    "id": "45S82SnUBsuQ"
   },
   "outputs": [],
   "source": [
    "for i in range(len(F)):\n",
    "    for j in rSubset(X, i):\n",
    "        F[i].append(list(j))"
   ]
  },
  {
   "cell_type": "code",
   "execution_count": 110,
   "metadata": {
    "colab": {},
    "colab_type": "code",
    "id": "BCLocKR-CJ4H"
   },
   "outputs": [],
   "source": [
    "def rand_n(list, n):\n",
    "    xor = np.array(list)\n",
    "    indices = np.arange(len(xor))\n",
    "    rnd_indices = np.random.choice(indices, size=n)\n",
    "    return xor[rnd_indices].tolist()"
   ]
  },
  {
   "cell_type": "code",
   "execution_count": 111,
   "metadata": {
    "colab": {},
    "colab_type": "code",
    "id": "KUSxz9HTJxJv"
   },
   "outputs": [],
   "source": [
    "f1 = rand_n(F1, 10)\n",
    "f2 = rand_n(F2, 50)\n",
    "f3 = rand_n(F3, 50)\n",
    "f4 = rand_n(F4, 50)\n",
    "f5 = rand_n(F5, 50)\n",
    "f6 = rand_n(F6, 50)\n",
    "f7 = rand_n(F7, 100)\n",
    "f8 = rand_n(F8, 100)\n",
    "f9 = rand_n(F9, 100)\n",
    "f10 = rand_n(F10, 100)\n",
    "f11 = rand_n(F11, 100)\n",
    "f12 = rand_n(F12, 50)\n",
    "f13 = rand_n(F13, 50)\n",
    "f14 = rand_n(F14, 50)\n",
    "f15 = rand_n(F15, 50)\n",
    "f16 = rand_n(F16, 10)"
   ]
  },
  {
   "cell_type": "code",
   "execution_count": 112,
   "metadata": {
    "colab": {},
    "colab_type": "code",
    "id": "b6Mx1mb0Mkn-"
   },
   "outputs": [],
   "source": [
    "my_evaluate1 = []\n",
    "\n",
    "for ele in f1:\n",
    "    mlp_zac = MLPClassifier(activation='tanh', max_iter=500)\n",
    "    mlp_scores = cross_val_score(mlp_zac, X[ele], y, cv=4,\n",
    "                             scoring='f1_macro')\n",
    "    my_evaluate1.append(mlp_scores.mean())"
   ]
  },
  {
   "cell_type": "code",
   "execution_count": 113,
   "metadata": {
    "colab": {},
    "colab_type": "code",
    "id": "sI0Jaf1ORmsU"
   },
   "outputs": [],
   "source": [
    "my_evaluate2 = []\n",
    "\n",
    "for ele in f2:\n",
    "    mlp_zac = MLPClassifier(activation='tanh', max_iter=500)\n",
    "    mlp_scores = cross_val_score(mlp_zac, X[ele], y, cv=4,\n",
    "                             scoring='f1_macro')\n",
    "    my_evaluate2.append(mlp_scores.mean())"
   ]
  },
  {
   "cell_type": "code",
   "execution_count": 114,
   "metadata": {
    "colab": {},
    "colab_type": "code",
    "id": "7JlTZ1Y1Rv20"
   },
   "outputs": [],
   "source": [
    "my_evaluate3 = []\n",
    "\n",
    "for ele in f3:\n",
    "    mlp_zac = MLPClassifier(activation='tanh', max_iter=500)\n",
    "    mlp_scores = cross_val_score(mlp_zac, X[ele], y, cv=4,\n",
    "                                 scoring='f1_macro')\n",
    "    my_evaluate3.append(mlp_scores.mean())"
   ]
  },
  {
   "cell_type": "code",
   "execution_count": 115,
   "metadata": {
    "colab": {},
    "colab_type": "code",
    "id": "F9tb6vNqSZml"
   },
   "outputs": [],
   "source": [
    "my_evaluate4 = []\n",
    "\n",
    "for ele in f4:\n",
    "    mlp_zac = MLPClassifier(activation='tanh', max_iter=500)\n",
    "    mlp_scores = cross_val_score(mlp_zac, X[ele], y, cv=4,\n",
    "                             scoring='f1_macro')\n",
    "    my_evaluate4.append(mlp_scores.mean())"
   ]
  },
  {
   "cell_type": "code",
   "execution_count": 116,
   "metadata": {
    "colab": {},
    "colab_type": "code",
    "id": "7dRyANK8SZka"
   },
   "outputs": [],
   "source": [
    "my_evaluate5 = []\n",
    "\n",
    "for ele in f5:\n",
    "    mlp_zac = MLPClassifier(activation='tanh', max_iter=500)\n",
    "    mlp_scores = cross_val_score(mlp_zac, X[ele], y, cv=4,\n",
    "                             scoring='f1_macro')\n",
    "    my_evaluate5.append(mlp_scores.mean())"
   ]
  },
  {
   "cell_type": "code",
   "execution_count": 117,
   "metadata": {
    "colab": {},
    "colab_type": "code",
    "id": "aITJJJK-SZiQ"
   },
   "outputs": [],
   "source": [
    "my_evaluate6 = []\n",
    "\n",
    "for ele in f6:\n",
    "    mlp_zac = MLPClassifier(activation='tanh', max_iter=500)\n",
    "    mlp_scores = cross_val_score(mlp_zac, X[ele], y, cv=4,\n",
    "                             scoring='f1_macro')\n",
    "    my_evaluate6.append(mlp_scores.mean())"
   ]
  },
  {
   "cell_type": "code",
   "execution_count": 118,
   "metadata": {
    "colab": {},
    "colab_type": "code",
    "id": "Tl0TFng2SZfg"
   },
   "outputs": [
    {
     "name": "stderr",
     "output_type": "stream",
     "text": [
      "c:\\users\\isada\\workspace\\a\\venv\\lib\\site-packages\\sklearn\\neural_network\\_multilayer_perceptron.py:585: ConvergenceWarning: Stochastic Optimizer: Maximum iterations (500) reached and the optimization hasn't converged yet.\n",
      "  % self.max_iter, ConvergenceWarning)\n"
     ]
    }
   ],
   "source": [
    "my_evaluate7 = []\n",
    "\n",
    "for ele in f7:\n",
    "    mlp_zac = MLPClassifier(activation='tanh', max_iter=500)\n",
    "    mlp_scores = cross_val_score(mlp_zac, X[ele], y, cv=4,\n",
    "                             scoring='f1_macro')\n",
    "    my_evaluate7.append(mlp_scores.mean())"
   ]
  },
  {
   "cell_type": "code",
   "execution_count": 119,
   "metadata": {
    "colab": {},
    "colab_type": "code",
    "id": "S3cenfRvSZcL"
   },
   "outputs": [
    {
     "name": "stderr",
     "output_type": "stream",
     "text": [
      "c:\\users\\isada\\workspace\\a\\venv\\lib\\site-packages\\sklearn\\neural_network\\_multilayer_perceptron.py:585: ConvergenceWarning: Stochastic Optimizer: Maximum iterations (500) reached and the optimization hasn't converged yet.\n",
      "  % self.max_iter, ConvergenceWarning)\n",
      "c:\\users\\isada\\workspace\\a\\venv\\lib\\site-packages\\sklearn\\neural_network\\_multilayer_perceptron.py:585: ConvergenceWarning: Stochastic Optimizer: Maximum iterations (500) reached and the optimization hasn't converged yet.\n",
      "  % self.max_iter, ConvergenceWarning)\n"
     ]
    }
   ],
   "source": [
    "my_evaluate8 = []\n",
    "\n",
    "for ele in f8:\n",
    "    mlp_zac = MLPClassifier(activation='tanh', max_iter=500)\n",
    "    mlp_scores = cross_val_score(mlp_zac, X[ele], y, cv=4,\n",
    "                             scoring='f1_macro')\n",
    "    my_evaluate8.append(mlp_scores.mean())"
   ]
  },
  {
   "cell_type": "code",
   "execution_count": 120,
   "metadata": {
    "colab": {},
    "colab_type": "code",
    "id": "Ucinu42WSZZV"
   },
   "outputs": [],
   "source": [
    "my_evaluate9 = []\n",
    "\n",
    "for ele in f9:\n",
    "    mlp_zac = MLPClassifier(activation='tanh', max_iter=500)\n",
    "    mlp_scores = cross_val_score(mlp_zac, X[ele], y, cv=4,\n",
    "                             scoring='f1_macro')\n",
    "    my_evaluate9.append(mlp_scores.mean())"
   ]
  },
  {
   "cell_type": "code",
   "execution_count": 121,
   "metadata": {
    "colab": {},
    "colab_type": "code",
    "id": "OyV9Zov_SZPA"
   },
   "outputs": [],
   "source": [
    "my_evaluate10 = []\n",
    "\n",
    "for ele in f10:\n",
    "    mlp_zac = MLPClassifier(activation='tanh', max_iter=500)\n",
    "    mlp_scores = cross_val_score(mlp_zac, X[ele], y, cv=4,\n",
    "                             scoring='f1_macro')\n",
    "    my_evaluate10.append(mlp_scores.mean())"
   ]
  },
  {
   "cell_type": "code",
   "execution_count": 122,
   "metadata": {
    "colab": {},
    "colab_type": "code",
    "id": "fuwTDp_OSZMX"
   },
   "outputs": [
    {
     "name": "stderr",
     "output_type": "stream",
     "text": [
      "c:\\users\\isada\\workspace\\a\\venv\\lib\\site-packages\\sklearn\\neural_network\\_multilayer_perceptron.py:585: ConvergenceWarning: Stochastic Optimizer: Maximum iterations (500) reached and the optimization hasn't converged yet.\n",
      "  % self.max_iter, ConvergenceWarning)\n",
      "c:\\users\\isada\\workspace\\a\\venv\\lib\\site-packages\\sklearn\\neural_network\\_multilayer_perceptron.py:585: ConvergenceWarning: Stochastic Optimizer: Maximum iterations (500) reached and the optimization hasn't converged yet.\n",
      "  % self.max_iter, ConvergenceWarning)\n",
      "c:\\users\\isada\\workspace\\a\\venv\\lib\\site-packages\\sklearn\\neural_network\\_multilayer_perceptron.py:585: ConvergenceWarning: Stochastic Optimizer: Maximum iterations (500) reached and the optimization hasn't converged yet.\n",
      "  % self.max_iter, ConvergenceWarning)\n",
      "c:\\users\\isada\\workspace\\a\\venv\\lib\\site-packages\\sklearn\\neural_network\\_multilayer_perceptron.py:585: ConvergenceWarning: Stochastic Optimizer: Maximum iterations (500) reached and the optimization hasn't converged yet.\n",
      "  % self.max_iter, ConvergenceWarning)\n"
     ]
    }
   ],
   "source": [
    "my_evaluate11 = []\n",
    "\n",
    "for ele in f11:\n",
    "    mlp_zac = MLPClassifier(activation='tanh', max_iter=500)\n",
    "    mlp_scores = cross_val_score(mlp_zac, X[ele], y, cv=4,\n",
    "                             scoring='f1_macro')\n",
    "    my_evaluate11.append(mlp_scores.mean())"
   ]
  },
  {
   "cell_type": "code",
   "execution_count": 123,
   "metadata": {
    "colab": {},
    "colab_type": "code",
    "id": "99K6e_hkSZJ1"
   },
   "outputs": [
    {
     "name": "stderr",
     "output_type": "stream",
     "text": [
      "c:\\users\\isada\\workspace\\a\\venv\\lib\\site-packages\\sklearn\\neural_network\\_multilayer_perceptron.py:585: ConvergenceWarning: Stochastic Optimizer: Maximum iterations (500) reached and the optimization hasn't converged yet.\n",
      "  % self.max_iter, ConvergenceWarning)\n"
     ]
    }
   ],
   "source": [
    "my_evaluate12 = []\n",
    "\n",
    "for ele in f12:\n",
    "    mlp_zac = MLPClassifier(activation='tanh', max_iter=500)\n",
    "    mlp_scores = cross_val_score(mlp_zac, X[ele], y, cv=4,\n",
    "                             scoring='f1_macro')\n",
    "    my_evaluate12.append(mlp_scores.mean())"
   ]
  },
  {
   "cell_type": "code",
   "execution_count": 124,
   "metadata": {
    "colab": {},
    "colab_type": "code",
    "id": "JjmibG4-SZHx"
   },
   "outputs": [
    {
     "name": "stderr",
     "output_type": "stream",
     "text": [
      "c:\\users\\isada\\workspace\\a\\venv\\lib\\site-packages\\sklearn\\neural_network\\_multilayer_perceptron.py:585: ConvergenceWarning: Stochastic Optimizer: Maximum iterations (500) reached and the optimization hasn't converged yet.\n",
      "  % self.max_iter, ConvergenceWarning)\n"
     ]
    }
   ],
   "source": [
    "my_evaluate13 = []\n",
    "\n",
    "for ele in f13:\n",
    "    mlp_zac = MLPClassifier(activation='tanh', max_iter=500)\n",
    "    mlp_scores = cross_val_score(mlp_zac, X[ele], y, cv=4,\n",
    "                             scoring='f1_macro')\n",
    "    my_evaluate13.append(mlp_scores.mean())"
   ]
  },
  {
   "cell_type": "code",
   "execution_count": 125,
   "metadata": {
    "colab": {},
    "colab_type": "code",
    "id": "WAI4iJOtSZFq"
   },
   "outputs": [],
   "source": [
    "my_evaluate14 = []\n",
    "\n",
    "for ele in f14:\n",
    "    mlp_zac = MLPClassifier(activation='tanh', max_iter=1000)\n",
    "    mlp_scores = cross_val_score(mlp_zac, X[ele], y, cv=4,\n",
    "                             scoring='f1_macro')\n",
    "    my_evaluate14.append(mlp_scores.mean())"
   ]
  },
  {
   "cell_type": "code",
   "execution_count": 126,
   "metadata": {
    "colab": {},
    "colab_type": "code",
    "id": "EzQEK6vjSZDj"
   },
   "outputs": [
    {
     "name": "stderr",
     "output_type": "stream",
     "text": [
      "c:\\users\\isada\\workspace\\a\\venv\\lib\\site-packages\\sklearn\\neural_network\\_multilayer_perceptron.py:585: ConvergenceWarning: Stochastic Optimizer: Maximum iterations (500) reached and the optimization hasn't converged yet.\n",
      "  % self.max_iter, ConvergenceWarning)\n"
     ]
    }
   ],
   "source": [
    "my_evaluate15 = []\n",
    "\n",
    "for ele in f15:\n",
    "    mlp_zac = MLPClassifier(activation='tanh', max_iter=500)\n",
    "    mlp_scores = cross_val_score(mlp_zac, X[ele], y, cv=4,\n",
    "                             scoring='f1_macro')\n",
    "    my_evaluate15.append(mlp_scores.mean())"
   ]
  },
  {
   "cell_type": "code",
   "execution_count": 127,
   "metadata": {
    "colab": {},
    "colab_type": "code",
    "id": "PtfyqomSSZBB"
   },
   "outputs": [],
   "source": [
    "my_evaluate16 = []\n",
    "\n",
    "for ele in f16:\n",
    "    mlp_zac = MLPClassifier(activation='tanh', max_iter=500)\n",
    "    mlp_scores = cross_val_score(mlp_zac, X[ele], y, cv=4,\n",
    "                             scoring='f1_macro')\n",
    "    my_evaluate16.append(mlp_scores.mean())"
   ]
  },
  {
   "cell_type": "code",
   "execution_count": 128,
   "metadata": {
    "colab": {},
    "colab_type": "code",
    "id": "Q-pDAmR5SY9t"
   },
   "outputs": [
    {
     "name": "stdout",
     "output_type": "stream",
     "text": [
      "0.7543284384252273\n",
      "0.7658238235708706\n",
      "0.7645026583515503\n",
      "0.7670800324707084\n",
      "0.7688086028398187\n",
      "0.7724145222657142\n",
      "0.7704166506496422\n",
      "0.7653919274512421\n",
      "0.7676961913072552\n",
      "0.7722500372760454\n",
      "0.7757396361984448\n",
      "0.7667860756266215\n",
      "0.7828315072261525\n",
      "0.772380488998214\n",
      "0.7737068494218939\n",
      "0.7660578629682984\n"
     ]
    }
   ],
   "source": [
    "print(max(my_evaluate1))\n",
    "print(max(my_evaluate2))\n",
    "print(max(my_evaluate3))\n",
    "print(max(my_evaluate4))\n",
    "print(max(my_evaluate5))\n",
    "print(max(my_evaluate6))\n",
    "print(max(my_evaluate7))\n",
    "print(max(my_evaluate8))\n",
    "print(max(my_evaluate9))\n",
    "print(max(my_evaluate10))\n",
    "print(max(my_evaluate11))\n",
    "print(max(my_evaluate12))\n",
    "print(max(my_evaluate13))\n",
    "print(max(my_evaluate14))\n",
    "print(max(my_evaluate15))\n",
    "print(max(my_evaluate16))"
   ]
  },
  {
   "cell_type": "code",
   "execution_count": 185,
   "metadata": {
    "colab": {},
    "colab_type": "code",
    "id": "2ZpDXWEbyLWB"
   },
   "outputs": [],
   "source": [
    "def print_evluation(evaluate):\n",
    "    index = np.array(evaluate).argmax(axis=0)\n",
    "    print(evaluate[index])\n",
    "    print(f7[index])"
   ]
  },
  {
   "cell_type": "code",
   "execution_count": 186,
   "metadata": {
    "colab": {},
    "colab_type": "code",
    "id": "yJRQuuj4SY2j"
   },
   "outputs": [
    {
     "name": "stdout",
     "output_type": "stream",
     "text": [
      "0.7722500372760454\n",
      "['ps', 'nma.a', 'nma.b', 'nma.c', 'nma.d', 'nex.a', 'nex.d', 'nex.e', 'nex.g', 'nex.f', 'dd', 'dm']\n"
     ]
    }
   ],
   "source": [
    "index = np.array(my_evaluate10).argmax(axis=0)\n",
    "print(my_evaluate10[index])\n",
    "list_10 = f10[index]\n",
    "list_7 = f7[index]\n",
    "print(f10[index])"
   ]
  },
  {
   "cell_type": "code",
   "execution_count": 187,
   "metadata": {
    "colab": {},
    "colab_type": "code",
    "id": "ynYWjFWuyHMU"
   },
   "outputs": [
    {
     "name": "stdout",
     "output_type": "stream",
     "text": [
      "{'nex.c', 'nma.f'}\n"
     ]
    },
    {
     "data": {
      "text/plain": [
       "{'dm', 'nex.a', 'nex.d', 'nex.e', 'nma.a', 'nma.b'}"
      ]
     },
     "execution_count": 187,
     "metadata": {},
     "output_type": "execute_result"
    }
   ],
   "source": [
    "print(find_intersect(list_7,list_10))\n",
    "find_intersect(list_10,list_7)"
   ]
  },
  {
   "cell_type": "code",
   "execution_count": 188,
   "metadata": {
    "colab": {},
    "colab_type": "code",
    "id": "So1L72QaSYuh"
   },
   "outputs": [
    {
     "data": {
      "image/png": "[encoded data removed]",
      "text/plain": [
       "<Figure size 432x288 with 1 Axes>"
      ]
     },
     "metadata": {
      "needs_background": "light"
     },
     "output_type": "display_data"
    }
   ],
   "source": [
    "results = [max(my_evaluate1),\n",
    "           max(my_evaluate2),\n",
    "          max(my_evaluate3),\n",
    "          max(my_evaluate4),\n",
    "          max(my_evaluate5),\n",
    "          max(my_evaluate6),\n",
    "          max(my_evaluate7),\n",
    "          max(my_evaluate8),\n",
    "          max(my_evaluate9),\n",
    "          max(my_evaluate10),\n",
    "          max(my_evaluate11),\n",
    "          max(my_evaluate12),\n",
    "          max(my_evaluate13),\n",
    "          max(my_evaluate14),\n",
    "          max(my_evaluate15),\n",
    "          max(my_evaluate16),]\n",
    "plt.plot(results)\n",
    "plt.show()"
   ]
  },
  {
   "cell_type": "code",
   "execution_count": 189,
   "metadata": {},
   "outputs": [
    {
     "data": {
      "text/plain": [
       "[0.6292149499901963,\n",
       " 0.7207350636388331,\n",
       " 0.6470787217019407,\n",
       " 0.7090515649128026,\n",
       " 0.7423017187875777,\n",
       " 0.6979726545173235,\n",
       " 0.6586492293357206,\n",
       " 0.7202666299151876,\n",
       " 0.7609707769631867,\n",
       " 0.6531234128717441,\n",
       " 0.7100209783863681,\n",
       " 0.7529708671234361,\n",
       " 0.6553274124991074,\n",
       " 0.7236610135112933,\n",
       " 0.7035381090946857,\n",
       " 0.7478594976315596,\n",
       " 0.7667860756266215,\n",
       " 0.6539825955686762,\n",
       " 0.7064766463270988,\n",
       " 0.7451544932508037,\n",
       " 0.6233436103399304,\n",
       " 0.630827504212109,\n",
       " 0.7439972716307557,\n",
       " 0.7365601840353059,\n",
       " 0.7350979046832307,\n",
       " 0.6625471347227883,\n",
       " 0.7436705404013666,\n",
       " 0.764489420615952,\n",
       " 0.7432684504195205,\n",
       " 0.6627542666731263,\n",
       " 0.7451624238263174,\n",
       " 0.6320455079594665,\n",
       " 0.6195314230173403,\n",
       " 0.6319879620134099,\n",
       " 0.754400534597599,\n",
       " 0.7426599743441985,\n",
       " 0.7492637771072548,\n",
       " 0.6452240620558606,\n",
       " 0.6649922919328348,\n",
       " 0.7067483807685949,\n",
       " 0.6282455797895078,\n",
       " 0.7545480641038251,\n",
       " 0.7519878069012009,\n",
       " 0.6754099427191164,\n",
       " 0.6879461612500111,\n",
       " 0.7583917313046316,\n",
       " 0.7133779716604332,\n",
       " 0.7585706774742909,\n",
       " 0.7299347001059533,\n",
       " 0.7181053161444436]"
      ]
     },
     "execution_count": 189,
     "metadata": {},
     "output_type": "execute_result"
    }
   ],
   "source": [
    "my_evaluate12"
   ]
  },
  {
   "cell_type": "code",
   "execution_count": 190,
   "metadata": {},
   "outputs": [],
   "source": [
    "for i in range(len(my_evaluate12)):\n",
    "    if my_evaluate12[i] == max(my_evaluate12):\n",
    "        iindex = i\n",
    "brutal_feature = f12[iindex]"
   ]
  },
  {
   "cell_type": "code",
   "execution_count": 191,
   "metadata": {},
   "outputs": [
    {
     "data": {
      "text/plain": [
       "['ps',\n",
       " 'nma.a',\n",
       " 'nma.b',\n",
       " 'nma.c',\n",
       " 'nex.a',\n",
       " 'nex.c',\n",
       " 'nex.e',\n",
       " 'nex.g',\n",
       " 'nex.f',\n",
       " 'nex.h',\n",
       " 'dd']"
      ]
     },
     "execution_count": 191,
     "metadata": {},
     "output_type": "execute_result"
    }
   ],
   "source": [
    "brutal_feature"
   ]
  },
  {
   "cell_type": "code",
   "execution_count": 192,
   "metadata": {
    "colab": {},
    "colab_type": "code",
    "id": "xNNhSL4jSYsi"
   },
   "outputs": [
    {
     "name": "stderr",
     "output_type": "stream",
     "text": [
      "c:\\users\\isada\\workspace\\a\\venv\\lib\\site-packages\\ipykernel_launcher.py:2: UserWarning: Boolean Series key will be reindexed to match DataFrame index.\n",
      "  \n",
      "c:\\users\\isada\\workspace\\a\\venv\\lib\\site-packages\\ipykernel_launcher.py:3: UserWarning: Boolean Series key will be reindexed to match DataFrame index.\n",
      "  This is separate from the ipykernel package so we can avoid doing imports until\n"
     ]
    },
    {
     "data": {
      "image/png": "[encoded data removed]",
      "text/plain": [
       "<Figure size 576x576 with 1 Axes>"
      ]
     },
     "metadata": {
      "needs_background": "light"
     },
     "output_type": "display_data"
    }
   ],
   "source": [
    "f, ax = plt.subplots(figsize=(8, 8))\n",
    "ax = sns.kdeplot(df_2[df_new['golds'] == 0]['nex.a-nex.d'])\n",
    "ax = sns.kdeplot(df_2[df_new['golds'] == 1]['nex.a-nex.d'])"
   ]
  },
  {
   "cell_type": "code",
   "execution_count": 193,
   "metadata": {
    "colab": {},
    "colab_type": "code",
    "id": "ihd3OLqTC6hi"
   },
   "outputs": [],
   "source": [
    "all_ =[]\n",
    "korn =[]\n",
    "por =[]\n",
    "max_iter = 1000\n",
    "n = 5\n",
    "for i in range(n):\n",
    "    mlp_zac = MLPClassifier(activation='tanh', max_iter=max_iter) # all\n",
    "    mlp_scores = cross_val_score(mlp_zac, X, y, cv=4, scoring='f1_macro')\n",
    "    all_.append(mlp_scores.mean())\n",
    "    mlp_zac = MLPClassifier(activation='tanh', max_iter=max_iter) # brutal-f\n",
    "    mlp_scores = cross_val_score(mlp_zac, X[brutal_feature], y,\n",
    "                               cv=4, scoring='f1_macro')\n",
    "    korn.append(mlp_scores.mean())\n",
    "    mlp_zac = MLPClassifier(activation='tanh', max_iter=max_iter) #f-impt\n",
    "    mlp_scores = cross_val_score(mlp_zac, X[feature_impt], y,\n",
    "                               cv=4, scoring='f1_macro')\n",
    "    por.append(mlp_scores.mean())"
   ]
  },
  {
   "cell_type": "code",
   "execution_count": 194,
   "metadata": {
    "colab": {},
    "colab_type": "code",
    "id": "Cub89tokwbDK"
   },
   "outputs": [
    {
     "name": "stdout",
     "output_type": "stream",
     "text": [
      "All features\n",
      "f1_micro-score: 0.7602203686194443\n",
      "Filtered features(Brute-force), columns=['ps', 'nma.a', 'nma.b', 'nma.c', 'nex.a', 'nex.c', 'nex.e', 'nex.g', 'nex.f', 'nex.h', 'dd']\n",
      "f1_micro-score: 0.7650468320011635\n",
      "Filtered features(sklearn importance_feature), columns=['nma.a', 'nex.f', 'nex.a', 'dd', 'nex.b', 'nex.c', 'nex.d', 'dm', 'nma.f', 'nma.d', 'nma.e']\n",
      "f1_micro-score: 0.7415003779862172\n"
     ]
    }
   ],
   "source": [
    "print(\"All features\")\n",
    "print(\"f1_micro-score: \" + str(np.mean(all_)))\n",
    "print(\"Filtered features(Brute-force), columns=\" + str(brutal_feature))\n",
    "print(\"f1_micro-score: \" + str(np.mean(korn)))\n",
    "print(\"Filtered features(sklearn importance_feature), columns=\"\n",
    "      + str(list(feature_impt)))\n",
    "print(\"f1_micro-score: \" + str(np.mean(por)))"
   ]
  },
  {
   "cell_type": "markdown",
   "metadata": {
    "colab_type": "text",
    "id": "gXCZdQgwFfNd"
   },
   "source": [
    "____"
   ]
  },
  {
   "cell_type": "code",
   "execution_count": 195,
   "metadata": {
    "colab": {},
    "colab_type": "code",
    "id": "AGIgUVHfFgNh"
   },
   "outputs": [
    {
     "data": {
      "image/png": "[encoded data removed]",
      "text/plain": [
       "<Figure size 432x288 with 1 Axes>"
      ]
     },
     "metadata": {
      "needs_background": "light"
     },
     "output_type": "display_data"
    }
   ],
   "source": [
    "ax = sns.scatterplot(x='nma.a', y='nex.a',hue=\"golds\",\n",
    "                     style=\"golds\", data=df_new)"
   ]
  },
  {
   "cell_type": "code",
   "execution_count": 196,
   "metadata": {
    "colab": {},
    "colab_type": "code",
    "id": "GcW1j1R9Flsh"
   },
   "outputs": [
    {
     "data": {
      "image/png": "[encoded data removed]",
      "text/plain": [
       "<Figure size 432x288 with 1 Axes>"
      ]
     },
     "metadata": {
      "needs_background": "light"
     },
     "output_type": "display_data"
    }
   ],
   "source": [
    "ax = sns.scatterplot(x='nma.f', y='dd',hue=\"golds\",\n",
    "                     style=\"golds\", data=df_new)"
   ]
  },
  {
   "cell_type": "code",
   "execution_count": 197,
   "metadata": {
    "colab": {},
    "colab_type": "code",
    "id": "wy5COz3IFuVh"
   },
   "outputs": [
    {
     "data": {
      "image/png": "[encoded data removed]",
      "text/plain": [
       "<Figure size 432x288 with 1 Axes>"
      ]
     },
     "metadata": {
      "needs_background": "light"
     },
     "output_type": "display_data"
    }
   ],
   "source": [
    "ax = sns.scatterplot(x='dm', y='dd',hue=\"golds\",\n",
    "                     style=\"golds\", data=df_new)"
   ]
  },
  {
   "cell_type": "code",
   "execution_count": 198,
   "metadata": {
    "colab": {},
    "colab_type": "code",
    "id": "wt8JrID_F0CB"
   },
   "outputs": [
    {
     "data": {
      "image/png": "[encoded data removed]",
      "text/plain": [
       "<Figure size 432x288 with 1 Axes>"
      ]
     },
     "metadata": {
      "needs_background": "light"
     },
     "output_type": "display_data"
    }
   ],
   "source": [
    "ax = sns.scatterplot(x='nex.h', y='nma.f',hue=\"golds\",\n",
    "                     style=\"golds\", data=df_new)"
   ]
  },
  {
   "cell_type": "code",
   "execution_count": 199,
   "metadata": {
    "colab": {},
    "colab_type": "code",
    "id": "ey_bPCYSF-z8"
   },
   "outputs": [
    {
     "data": {
      "image/png": "[encoded data removed]",
      "text/plain": [
       "<Figure size 576x576 with 1 Axes>"
      ]
     },
     "metadata": {
      "needs_background": "light"
     },
     "output_type": "display_data"
    }
   ],
   "source": [
    "f, ax = plt.subplots(figsize=(8, 8))\n",
    "ax = sns.kdeplot(df_new[df_new['golds'] == 0]['nex.h'])\n",
    "ax = sns.kdeplot(df_new[df_new['golds'] == 1]['nex.h'])"
   ]
  },
  {
   "cell_type": "code",
   "execution_count": 200,
   "metadata": {
    "colab": {},
    "colab_type": "code",
    "id": "GnaBIi8RHTop"
   },
   "outputs": [
    {
     "name": "stdout",
     "output_type": "stream",
     "text": [
      "              precision    recall  f1-score   support\n",
      "\n",
      "         0.0       0.73      0.78      0.75       136\n",
      "         1.0       0.79      0.73      0.76       150\n",
      "\n",
      "    accuracy                           0.76       286\n",
      "   macro avg       0.76      0.76      0.76       286\n",
      "weighted avg       0.76      0.76      0.76       286\n",
      "\n"
     ]
    }
   ],
   "source": [
    "mlp = MLPClassifier(activation='tanh', max_iter=500)\n",
    "mlp.fit(X_train[brutal_feature], y_train)\n",
    "y_hat_mlp = mlp.predict(X_test[brutal_feature])\n",
    "print(classification_report(y_test, y_hat_mlp))"
   ]
  },
  {
   "cell_type": "code",
   "execution_count": 201,
   "metadata": {
    "colab": {},
    "colab_type": "code",
    "id": "fmx04QTtKNcv"
   },
   "outputs": [
    {
     "data": {
      "text/plain": [
       "<matplotlib.axes._subplots.AxesSubplot at 0x2698889d6c8>"
      ]
     },
     "execution_count": 201,
     "metadata": {},
     "output_type": "execute_result"
    },
    {
     "data": {
      "image/png": "[encoded data removed]",
      "text/plain": [
       "<Figure size 432x288 with 1 Axes>"
      ]
     },
     "metadata": {
      "needs_background": "light"
     },
     "output_type": "display_data"
    }
   ],
   "source": [
    "df_1[df_1.columns[:7]].plot(kind='box',stacked=True)"
   ]
  },
  {
   "cell_type": "code",
   "execution_count": 202,
   "metadata": {
    "colab": {},
    "colab_type": "code",
    "id": "EG-tNsuILR_H"
   },
   "outputs": [
    {
     "data": {
      "text/plain": [
       "<matplotlib.axes._subplots.AxesSubplot at 0x269884d9348>"
      ]
     },
     "execution_count": 202,
     "metadata": {},
     "output_type": "execute_result"
    },
    {
     "data": {
      "image/png": "[encoded data removed]",
      "text/plain": [
       "<Figure size 432x288 with 1 Axes>"
      ]
     },
     "metadata": {
      "needs_background": "light"
     },
     "output_type": "display_data"
    }
   ],
   "source": [
    "df_1[df_1.columns[7:14]].plot(kind='box',stacked=True)"
   ]
  },
  {
   "cell_type": "code",
   "execution_count": 203,
   "metadata": {
    "colab": {},
    "colab_type": "code",
    "id": "_VuLnVlMM6f-"
   },
   "outputs": [
    {
     "data": {
      "text/plain": [
       "<matplotlib.axes._subplots.AxesSubplot at 0x26982134248>"
      ]
     },
     "execution_count": 203,
     "metadata": {},
     "output_type": "execute_result"
    },
    {
     "data": {
      "image/png": "[encoded data removed]",
      "text/plain": [
       "<Figure size 432x288 with 1 Axes>"
      ]
     },
     "metadata": {
      "needs_background": "light"
     },
     "output_type": "display_data"
    }
   ],
   "source": [
    "df_1[df_1.columns[14:]].plot(kind='box',stacked=True)"
   ]
  },
  {
   "cell_type": "code",
   "execution_count": null,
   "metadata": {
    "colab": {},
    "colab_type": "code",
    "id": "J-3wWjlENM32"
   },
   "outputs": [],
   "source": []
  },
  {
   "cell_type": "code",
   "execution_count": null,
   "metadata": {},
   "outputs": [],
   "source": []
  }
 ],
 "metadata": {
  "colab": {
   "collapsed_sections": [],
   "name": "data_analytics.ipynb",
   "provenance": [],
   "toc_visible": true
  },
  "kernelspec": {
   "display_name": "Python 3",
   "language": "python",
   "name": "python3"
  },
  "language_info": {
   "codemirror_mode": {
    "name": "ipython",
    "version": 3
   },
   "file_extension": ".py",
   "mimetype": "text/x-python",
   "name": "python",
   "nbconvert_exporter": "python",
   "pygments_lexer": "ipython3",
   "version": "3.7.7"
  }
 },
 "nbformat": 4,
 "nbformat_minor": 1
}
